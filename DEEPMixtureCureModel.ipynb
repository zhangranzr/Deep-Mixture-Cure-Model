{
 "cells": [
  {
   "cell_type": "markdown",
   "metadata": {},
   "source": [
    "# Deep Mixture Cure Model\n",
    "# Contents\n",
    "<a href='#LoadingLibraries'>1. Load all neccessary libraries</a><br/>\n",
    "<a href='#EDA'>2. Explanatory Data Analysis</a><br/>\n",
    "<a href='#ChooseFeatures'>3. Choose Features from Earlier Section or External Files</a><br/>\n",
    "<a href='#ImputeWinsorizeStandardize'>4. Imputation, Winsorization, Standardization</a><br/>\n",
    "<a href='#TrainTestModels'>5. Train & Test the Models</a><br/>\n",
    "<a href='#FeatureAnalysis'>6. Analyze Model Features Importance and their Correlation</a><br/>\n",
    "<a href='#ScoreMapping'>7. Build Score Mapping Functions</a><br/>\n",
    "<a href='#CreateModelPickle'>8. Create Deployable Pickle File</a><br/>\n",
    "<a href='#ModelComparison'>9. Compare Model Scores against each other</a><br/>\n",
    "<a href='#AnalyzeFilter'>10. Analyze the impact of various filters on training data</a><br/>\n",
    "<a href='#FeatureSelectionGAXGBoost'>11. Feature Selection via Genetic Algorithm - xgboost</a><br/>\n",
    "<a href='#FeatureSelectionGAXLogReg'>12. Feature Selection via Genetic Algorithm - logreg </a><br/>"
   ]
  },
  {
   "cell_type": "markdown",
   "metadata": {},
   "source": [
    "# Load all neccessary libraries and data<a id='LoadingLibraries'></a>"
   ]
  },
  {
   "cell_type": "code",
   "execution_count": 1,
   "metadata": {},
   "outputs": [],
   "source": [
    "import pandas as pd\n",
    "import numpy as np\n",
    "import lifelines\n",
    "from lifelines.utils import to_long_format"
   ]
  },
  {
   "cell_type": "markdown",
   "metadata": {},
   "source": [
    "# Explanatory Analysis of Data<a id='EDA'></a>"
   ]
  },
  {
   "cell_type": "code",
   "execution_count": 2,
   "metadata": {},
   "outputs": [],
   "source": [
    "loan_m = pd.read_csv('../mortgage/mortgage.csv')\n",
    "loan_m['loan_time'] = loan_m.time - loan_m.orig_time\n",
    "loan_m['label'] = [l if l == 1 else 0 for l in loan_m['status_time'] ]"
   ]
  },
  {
   "cell_type": "code",
   "execution_count": 3,
   "metadata": {},
   "outputs": [
    {
     "output_type": "stream",
     "name": "stdout",
     "text": [
      "100\n",
      "60\n"
     ]
    },
    {
     "output_type": "display_data",
     "data": {
      "text/plain": "<Figure size 432x288 with 1 Axes>",
      "image/svg+xml": "<?xml version=\"1.0\" encoding=\"utf-8\" standalone=\"no\"?>\r\n<!DOCTYPE svg PUBLIC \"-//W3C//DTD SVG 1.1//EN\"\r\n  \"http://www.w3.org/Graphics/SVG/1.1/DTD/svg11.dtd\">\r\n<!-- Created with matplotlib (https://matplotlib.org/) -->\r\n<svg height=\"248.518125pt\" version=\"1.1\" viewBox=\"0 0 394.375 248.518125\" width=\"394.375pt\" xmlns=\"http://www.w3.org/2000/svg\" xmlns:xlink=\"http://www.w3.org/1999/xlink\">\r\n <metadata>\r\n  <rdf:RDF xmlns:cc=\"http://creativecommons.org/ns#\" xmlns:dc=\"http://purl.org/dc/elements/1.1/\" xmlns:rdf=\"http://www.w3.org/1999/02/22-rdf-syntax-ns#\">\r\n   <cc:Work>\r\n    <dc:type rdf:resource=\"http://purl.org/dc/dcmitype/StillImage\"/>\r\n    <dc:date>2020-11-27T01:27:50.082734</dc:date>\r\n    <dc:format>image/svg+xml</dc:format>\r\n    <dc:creator>\r\n     <cc:Agent>\r\n      <dc:title>Matplotlib v3.3.2, https://matplotlib.org/</dc:title>\r\n     </cc:Agent>\r\n    </dc:creator>\r\n   </cc:Work>\r\n  </rdf:RDF>\r\n </metadata>\r\n <defs>\r\n  <style type=\"text/css\">*{stroke-linecap:butt;stroke-linejoin:round;}</style>\r\n </defs>\r\n <g id=\"figure_1\">\r\n  <g id=\"patch_1\">\r\n   <path d=\"M 0 248.518125 \r\nL 394.375 248.518125 \r\nL 394.375 0 \r\nL 0 0 \r\nz\r\n\" style=\"fill:none;\"/>\r\n  </g>\r\n  <g id=\"axes_1\">\r\n   <g id=\"patch_2\">\r\n    <path d=\"M 52.375 224.64 \r\nL 387.175 224.64 \r\nL 387.175 7.2 \r\nL 52.375 7.2 \r\nz\r\n\" style=\"fill:#ffffff;\"/>\r\n   </g>\r\n   <g id=\"patch_3\">\r\n    <path clip-path=\"url(#p070189ad0a)\" d=\"M 67.593182 224.64 \r\nL 98.029545 224.64 \r\nL 98.029545 17.554286 \r\nL 67.593182 17.554286 \r\nz\r\n\" style=\"fill:#1f77b4;\"/>\r\n   </g>\r\n   <g id=\"patch_4\">\r\n    <path clip-path=\"url(#p070189ad0a)\" d=\"M 98.029545 224.64 \r\nL 128.465909 224.64 \r\nL 128.465909 90.372189 \r\nL 98.029545 90.372189 \r\nz\r\n\" style=\"fill:#1f77b4;\"/>\r\n   </g>\r\n   <g id=\"patch_5\">\r\n    <path clip-path=\"url(#p070189ad0a)\" d=\"M 128.465909 224.64 \r\nL 158.902273 224.64 \r\nL 158.902273 139.383228 \r\nL 128.465909 139.383228 \r\nz\r\n\" style=\"fill:#1f77b4;\"/>\r\n   </g>\r\n   <g id=\"patch_6\">\r\n    <path clip-path=\"url(#p070189ad0a)\" d=\"M 158.902273 224.64 \r\nL 189.338636 224.64 \r\nL 189.338636 171.309632 \r\nL 158.902273 171.309632 \r\nz\r\n\" style=\"fill:#1f77b4;\"/>\r\n   </g>\r\n   <g id=\"patch_7\">\r\n    <path clip-path=\"url(#p070189ad0a)\" d=\"M 189.338636 224.64 \r\nL 219.775 224.64 \r\nL 219.775 213.397804 \r\nL 189.338636 213.397804 \r\nz\r\n\" style=\"fill:#1f77b4;\"/>\r\n   </g>\r\n   <g id=\"patch_8\">\r\n    <path clip-path=\"url(#p070189ad0a)\" d=\"M 219.775 224.64 \r\nL 250.211364 224.64 \r\nL 250.211364 221.963211 \r\nL 219.775 221.963211 \r\nz\r\n\" style=\"fill:#1f77b4;\"/>\r\n   </g>\r\n   <g id=\"patch_9\">\r\n    <path clip-path=\"url(#p070189ad0a)\" d=\"M 250.211364 224.64 \r\nL 280.647727 224.64 \r\nL 280.647727 223.456862 \r\nL 250.211364 223.456862 \r\nz\r\n\" style=\"fill:#1f77b4;\"/>\r\n   </g>\r\n   <g id=\"patch_10\">\r\n    <path clip-path=\"url(#p070189ad0a)\" d=\"M 280.647727 224.64 \r\nL 311.084091 224.64 \r\nL 311.084091 224.299231 \r\nL 280.647727 224.299231 \r\nz\r\n\" style=\"fill:#1f77b4;\"/>\r\n   </g>\r\n   <g id=\"patch_11\">\r\n    <path clip-path=\"url(#p070189ad0a)\" d=\"M 311.084091 224.64 \r\nL 341.520455 224.64 \r\nL 341.520455 224.496686 \r\nL 311.084091 224.496686 \r\nz\r\n\" style=\"fill:#1f77b4;\"/>\r\n   </g>\r\n   <g id=\"patch_12\">\r\n    <path clip-path=\"url(#p070189ad0a)\" d=\"M 341.520455 224.64 \r\nL 371.956818 224.64 \r\nL 371.956818 224.547642 \r\nL 341.520455 224.547642 \r\nz\r\n\" style=\"fill:#1f77b4;\"/>\r\n   </g>\r\n   <g id=\"patch_13\">\r\n    <path clip-path=\"url(#p070189ad0a)\" d=\"M 70.636818 224.64 \r\nL 88.594273 224.64 \r\nL 88.594273 207.996454 \r\nL 70.636818 207.996454 \r\nz\r\n\" style=\"fill:#ff7f0e;\"/>\r\n   </g>\r\n   <g id=\"patch_14\">\r\n    <path clip-path=\"url(#p070189ad0a)\" d=\"M 88.594273 224.64 \r\nL 106.551727 224.64 \r\nL 106.551727 214.541928 \r\nL 88.594273 214.541928 \r\nz\r\n\" style=\"fill:#ff7f0e;\"/>\r\n   </g>\r\n   <g id=\"patch_15\">\r\n    <path clip-path=\"url(#p070189ad0a)\" d=\"M 106.551727 224.64 \r\nL 124.509182 224.64 \r\nL 124.509182 221.103326 \r\nL 106.551727 221.103326 \r\nz\r\n\" style=\"fill:#ff7f0e;\"/>\r\n   </g>\r\n   <g id=\"patch_16\">\r\n    <path clip-path=\"url(#p070189ad0a)\" d=\"M 124.509182 224.64 \r\nL 142.466636 224.64 \r\nL 142.466636 222.497454 \r\nL 124.509182 222.497454 \r\nz\r\n\" style=\"fill:#ff7f0e;\"/>\r\n   </g>\r\n   <g id=\"patch_17\">\r\n    <path clip-path=\"url(#p070189ad0a)\" d=\"M 142.466636 224.64 \r\nL 160.424091 224.64 \r\nL 160.424091 222.962429 \r\nL 142.466636 222.962429 \r\nz\r\n\" style=\"fill:#ff7f0e;\"/>\r\n   </g>\r\n   <g id=\"patch_18\">\r\n    <path clip-path=\"url(#p070189ad0a)\" d=\"M 160.424091 224.64 \r\nL 178.381545 224.64 \r\nL 178.381545 221.106511 \r\nL 160.424091 221.106511 \r\nz\r\n\" style=\"fill:#ff7f0e;\"/>\r\n   </g>\r\n   <g id=\"patch_19\">\r\n    <path clip-path=\"url(#p070189ad0a)\" d=\"M 178.381545 224.64 \r\nL 196.339 224.64 \r\nL 196.339 222.841408 \r\nL 178.381545 222.841408 \r\nz\r\n\" style=\"fill:#ff7f0e;\"/>\r\n   </g>\r\n   <g id=\"patch_20\">\r\n    <path clip-path=\"url(#p070189ad0a)\" d=\"M 196.339 224.64 \r\nL 214.296455 224.64 \r\nL 214.296455 224.276141 \r\nL 196.339 224.276141 \r\nz\r\n\" style=\"fill:#ff7f0e;\"/>\r\n   </g>\r\n   <g id=\"patch_21\">\r\n    <path clip-path=\"url(#p070189ad0a)\" d=\"M 214.296455 224.64 \r\nL 232.253909 224.64 \r\nL 232.253909 224.625669 \r\nL 214.296455 224.625669 \r\nz\r\n\" style=\"fill:#ff7f0e;\"/>\r\n   </g>\r\n   <g id=\"patch_22\">\r\n    <path clip-path=\"url(#p070189ad0a)\" d=\"M 232.253909 224.64 \r\nL 250.211364 224.64 \r\nL 250.211364 224.639204 \r\nL 232.253909 224.639204 \r\nz\r\n\" style=\"fill:#ff7f0e;\"/>\r\n   </g>\r\n   <g id=\"matplotlib.axis_1\">\r\n    <g id=\"xtick_1\">\r\n     <g id=\"line2d_1\">\r\n      <path clip-path=\"url(#p070189ad0a)\" d=\"M 67.593182 224.64 \r\nL 67.593182 7.2 \r\n\" style=\"fill:none;stroke:#b0b0b0;stroke-linecap:square;stroke-width:0.8;\"/>\r\n     </g>\r\n     <g id=\"line2d_2\">\r\n      <defs>\r\n       <path d=\"M 0 0 \r\nL 0 3.5 \r\n\" id=\"m8d0b48a4a5\" style=\"stroke:#000000;stroke-width:0.8;\"/>\r\n      </defs>\r\n      <g>\r\n       <use style=\"stroke:#000000;stroke-width:0.8;\" x=\"67.593182\" xlink:href=\"#m8d0b48a4a5\" y=\"224.64\"/>\r\n      </g>\r\n     </g>\r\n     <g id=\"text_1\">\r\n      <!-- 0 -->\r\n      <g transform=\"translate(64.411932 239.238437)scale(0.1 -0.1)\">\r\n       <defs>\r\n        <path d=\"M 31.78125 66.40625 \r\nQ 24.171875 66.40625 20.328125 58.90625 \r\nQ 16.5 51.421875 16.5 36.375 \r\nQ 16.5 21.390625 20.328125 13.890625 \r\nQ 24.171875 6.390625 31.78125 6.390625 \r\nQ 39.453125 6.390625 43.28125 13.890625 \r\nQ 47.125 21.390625 47.125 36.375 \r\nQ 47.125 51.421875 43.28125 58.90625 \r\nQ 39.453125 66.40625 31.78125 66.40625 \r\nz\r\nM 31.78125 74.21875 \r\nQ 44.046875 74.21875 50.515625 64.515625 \r\nQ 56.984375 54.828125 56.984375 36.375 \r\nQ 56.984375 17.96875 50.515625 8.265625 \r\nQ 44.046875 -1.421875 31.78125 -1.421875 \r\nQ 19.53125 -1.421875 13.0625 8.265625 \r\nQ 6.59375 17.96875 6.59375 36.375 \r\nQ 6.59375 54.828125 13.0625 64.515625 \r\nQ 19.53125 74.21875 31.78125 74.21875 \r\nz\r\n\" id=\"DejaVuSans-48\"/>\r\n       </defs>\r\n       <use xlink:href=\"#DejaVuSans-48\"/>\r\n      </g>\r\n     </g>\r\n    </g>\r\n    <g id=\"xtick_2\">\r\n     <g id=\"line2d_3\">\r\n      <path clip-path=\"url(#p070189ad0a)\" d=\"M 128.465909 224.64 \r\nL 128.465909 7.2 \r\n\" style=\"fill:none;stroke:#b0b0b0;stroke-linecap:square;stroke-width:0.8;\"/>\r\n     </g>\r\n     <g id=\"line2d_4\">\r\n      <g>\r\n       <use style=\"stroke:#000000;stroke-width:0.8;\" x=\"128.465909\" xlink:href=\"#m8d0b48a4a5\" y=\"224.64\"/>\r\n      </g>\r\n     </g>\r\n     <g id=\"text_2\">\r\n      <!-- 20 -->\r\n      <g transform=\"translate(122.103409 239.238437)scale(0.1 -0.1)\">\r\n       <defs>\r\n        <path d=\"M 19.1875 8.296875 \r\nL 53.609375 8.296875 \r\nL 53.609375 0 \r\nL 7.328125 0 \r\nL 7.328125 8.296875 \r\nQ 12.9375 14.109375 22.625 23.890625 \r\nQ 32.328125 33.6875 34.8125 36.53125 \r\nQ 39.546875 41.84375 41.421875 45.53125 \r\nQ 43.3125 49.21875 43.3125 52.78125 \r\nQ 43.3125 58.59375 39.234375 62.25 \r\nQ 35.15625 65.921875 28.609375 65.921875 \r\nQ 23.96875 65.921875 18.8125 64.3125 \r\nQ 13.671875 62.703125 7.8125 59.421875 \r\nL 7.8125 69.390625 \r\nQ 13.765625 71.78125 18.9375 73 \r\nQ 24.125 74.21875 28.421875 74.21875 \r\nQ 39.75 74.21875 46.484375 68.546875 \r\nQ 53.21875 62.890625 53.21875 53.421875 \r\nQ 53.21875 48.921875 51.53125 44.890625 \r\nQ 49.859375 40.875 45.40625 35.40625 \r\nQ 44.1875 33.984375 37.640625 27.21875 \r\nQ 31.109375 20.453125 19.1875 8.296875 \r\nz\r\n\" id=\"DejaVuSans-50\"/>\r\n       </defs>\r\n       <use xlink:href=\"#DejaVuSans-50\"/>\r\n       <use x=\"63.623047\" xlink:href=\"#DejaVuSans-48\"/>\r\n      </g>\r\n     </g>\r\n    </g>\r\n    <g id=\"xtick_3\">\r\n     <g id=\"line2d_5\">\r\n      <path clip-path=\"url(#p070189ad0a)\" d=\"M 189.338636 224.64 \r\nL 189.338636 7.2 \r\n\" style=\"fill:none;stroke:#b0b0b0;stroke-linecap:square;stroke-width:0.8;\"/>\r\n     </g>\r\n     <g id=\"line2d_6\">\r\n      <g>\r\n       <use style=\"stroke:#000000;stroke-width:0.8;\" x=\"189.338636\" xlink:href=\"#m8d0b48a4a5\" y=\"224.64\"/>\r\n      </g>\r\n     </g>\r\n     <g id=\"text_3\">\r\n      <!-- 40 -->\r\n      <g transform=\"translate(182.976136 239.238437)scale(0.1 -0.1)\">\r\n       <defs>\r\n        <path d=\"M 37.796875 64.3125 \r\nL 12.890625 25.390625 \r\nL 37.796875 25.390625 \r\nz\r\nM 35.203125 72.90625 \r\nL 47.609375 72.90625 \r\nL 47.609375 25.390625 \r\nL 58.015625 25.390625 \r\nL 58.015625 17.1875 \r\nL 47.609375 17.1875 \r\nL 47.609375 0 \r\nL 37.796875 0 \r\nL 37.796875 17.1875 \r\nL 4.890625 17.1875 \r\nL 4.890625 26.703125 \r\nz\r\n\" id=\"DejaVuSans-52\"/>\r\n       </defs>\r\n       <use xlink:href=\"#DejaVuSans-52\"/>\r\n       <use x=\"63.623047\" xlink:href=\"#DejaVuSans-48\"/>\r\n      </g>\r\n     </g>\r\n    </g>\r\n    <g id=\"xtick_4\">\r\n     <g id=\"line2d_7\">\r\n      <path clip-path=\"url(#p070189ad0a)\" d=\"M 250.211364 224.64 \r\nL 250.211364 7.2 \r\n\" style=\"fill:none;stroke:#b0b0b0;stroke-linecap:square;stroke-width:0.8;\"/>\r\n     </g>\r\n     <g id=\"line2d_8\">\r\n      <g>\r\n       <use style=\"stroke:#000000;stroke-width:0.8;\" x=\"250.211364\" xlink:href=\"#m8d0b48a4a5\" y=\"224.64\"/>\r\n      </g>\r\n     </g>\r\n     <g id=\"text_4\">\r\n      <!-- 60 -->\r\n      <g transform=\"translate(243.848864 239.238437)scale(0.1 -0.1)\">\r\n       <defs>\r\n        <path d=\"M 33.015625 40.375 \r\nQ 26.375 40.375 22.484375 35.828125 \r\nQ 18.609375 31.296875 18.609375 23.390625 \r\nQ 18.609375 15.53125 22.484375 10.953125 \r\nQ 26.375 6.390625 33.015625 6.390625 \r\nQ 39.65625 6.390625 43.53125 10.953125 \r\nQ 47.40625 15.53125 47.40625 23.390625 \r\nQ 47.40625 31.296875 43.53125 35.828125 \r\nQ 39.65625 40.375 33.015625 40.375 \r\nz\r\nM 52.59375 71.296875 \r\nL 52.59375 62.3125 \r\nQ 48.875 64.0625 45.09375 64.984375 \r\nQ 41.3125 65.921875 37.59375 65.921875 \r\nQ 27.828125 65.921875 22.671875 59.328125 \r\nQ 17.53125 52.734375 16.796875 39.40625 \r\nQ 19.671875 43.65625 24.015625 45.921875 \r\nQ 28.375 48.1875 33.59375 48.1875 \r\nQ 44.578125 48.1875 50.953125 41.515625 \r\nQ 57.328125 34.859375 57.328125 23.390625 \r\nQ 57.328125 12.15625 50.6875 5.359375 \r\nQ 44.046875 -1.421875 33.015625 -1.421875 \r\nQ 20.359375 -1.421875 13.671875 8.265625 \r\nQ 6.984375 17.96875 6.984375 36.375 \r\nQ 6.984375 53.65625 15.1875 63.9375 \r\nQ 23.390625 74.21875 37.203125 74.21875 \r\nQ 40.921875 74.21875 44.703125 73.484375 \r\nQ 48.484375 72.75 52.59375 71.296875 \r\nz\r\n\" id=\"DejaVuSans-54\"/>\r\n       </defs>\r\n       <use xlink:href=\"#DejaVuSans-54\"/>\r\n       <use x=\"63.623047\" xlink:href=\"#DejaVuSans-48\"/>\r\n      </g>\r\n     </g>\r\n    </g>\r\n    <g id=\"xtick_5\">\r\n     <g id=\"line2d_9\">\r\n      <path clip-path=\"url(#p070189ad0a)\" d=\"M 311.084091 224.64 \r\nL 311.084091 7.2 \r\n\" style=\"fill:none;stroke:#b0b0b0;stroke-linecap:square;stroke-width:0.8;\"/>\r\n     </g>\r\n     <g id=\"line2d_10\">\r\n      <g>\r\n       <use style=\"stroke:#000000;stroke-width:0.8;\" x=\"311.084091\" xlink:href=\"#m8d0b48a4a5\" y=\"224.64\"/>\r\n      </g>\r\n     </g>\r\n     <g id=\"text_5\">\r\n      <!-- 80 -->\r\n      <g transform=\"translate(304.721591 239.238437)scale(0.1 -0.1)\">\r\n       <defs>\r\n        <path d=\"M 31.78125 34.625 \r\nQ 24.75 34.625 20.71875 30.859375 \r\nQ 16.703125 27.09375 16.703125 20.515625 \r\nQ 16.703125 13.921875 20.71875 10.15625 \r\nQ 24.75 6.390625 31.78125 6.390625 \r\nQ 38.8125 6.390625 42.859375 10.171875 \r\nQ 46.921875 13.96875 46.921875 20.515625 \r\nQ 46.921875 27.09375 42.890625 30.859375 \r\nQ 38.875 34.625 31.78125 34.625 \r\nz\r\nM 21.921875 38.8125 \r\nQ 15.578125 40.375 12.03125 44.71875 \r\nQ 8.5 49.078125 8.5 55.328125 \r\nQ 8.5 64.0625 14.71875 69.140625 \r\nQ 20.953125 74.21875 31.78125 74.21875 \r\nQ 42.671875 74.21875 48.875 69.140625 \r\nQ 55.078125 64.0625 55.078125 55.328125 \r\nQ 55.078125 49.078125 51.53125 44.71875 \r\nQ 48 40.375 41.703125 38.8125 \r\nQ 48.828125 37.15625 52.796875 32.3125 \r\nQ 56.78125 27.484375 56.78125 20.515625 \r\nQ 56.78125 9.90625 50.3125 4.234375 \r\nQ 43.84375 -1.421875 31.78125 -1.421875 \r\nQ 19.734375 -1.421875 13.25 4.234375 \r\nQ 6.78125 9.90625 6.78125 20.515625 \r\nQ 6.78125 27.484375 10.78125 32.3125 \r\nQ 14.796875 37.15625 21.921875 38.8125 \r\nz\r\nM 18.3125 54.390625 \r\nQ 18.3125 48.734375 21.84375 45.5625 \r\nQ 25.390625 42.390625 31.78125 42.390625 \r\nQ 38.140625 42.390625 41.71875 45.5625 \r\nQ 45.3125 48.734375 45.3125 54.390625 \r\nQ 45.3125 60.0625 41.71875 63.234375 \r\nQ 38.140625 66.40625 31.78125 66.40625 \r\nQ 25.390625 66.40625 21.84375 63.234375 \r\nQ 18.3125 60.0625 18.3125 54.390625 \r\nz\r\n\" id=\"DejaVuSans-56\"/>\r\n       </defs>\r\n       <use xlink:href=\"#DejaVuSans-56\"/>\r\n       <use x=\"63.623047\" xlink:href=\"#DejaVuSans-48\"/>\r\n      </g>\r\n     </g>\r\n    </g>\r\n    <g id=\"xtick_6\">\r\n     <g id=\"line2d_11\">\r\n      <path clip-path=\"url(#p070189ad0a)\" d=\"M 371.956818 224.64 \r\nL 371.956818 7.2 \r\n\" style=\"fill:none;stroke:#b0b0b0;stroke-linecap:square;stroke-width:0.8;\"/>\r\n     </g>\r\n     <g id=\"line2d_12\">\r\n      <g>\r\n       <use style=\"stroke:#000000;stroke-width:0.8;\" x=\"371.956818\" xlink:href=\"#m8d0b48a4a5\" y=\"224.64\"/>\r\n      </g>\r\n     </g>\r\n     <g id=\"text_6\">\r\n      <!-- 100 -->\r\n      <g transform=\"translate(362.413068 239.238437)scale(0.1 -0.1)\">\r\n       <defs>\r\n        <path d=\"M 12.40625 8.296875 \r\nL 28.515625 8.296875 \r\nL 28.515625 63.921875 \r\nL 10.984375 60.40625 \r\nL 10.984375 69.390625 \r\nL 28.421875 72.90625 \r\nL 38.28125 72.90625 \r\nL 38.28125 8.296875 \r\nL 54.390625 8.296875 \r\nL 54.390625 0 \r\nL 12.40625 0 \r\nz\r\n\" id=\"DejaVuSans-49\"/>\r\n       </defs>\r\n       <use xlink:href=\"#DejaVuSans-49\"/>\r\n       <use x=\"63.623047\" xlink:href=\"#DejaVuSans-48\"/>\r\n       <use x=\"127.246094\" xlink:href=\"#DejaVuSans-48\"/>\r\n      </g>\r\n     </g>\r\n    </g>\r\n   </g>\r\n   <g id=\"matplotlib.axis_2\">\r\n    <g id=\"ytick_1\">\r\n     <g id=\"line2d_13\">\r\n      <path clip-path=\"url(#p070189ad0a)\" d=\"M 52.375 224.64 \r\nL 387.175 224.64 \r\n\" style=\"fill:none;stroke:#b0b0b0;stroke-linecap:square;stroke-width:0.8;\"/>\r\n     </g>\r\n     <g id=\"line2d_14\">\r\n      <defs>\r\n       <path d=\"M 0 0 \r\nL -3.5 0 \r\n\" id=\"m24cdae0605\" style=\"stroke:#000000;stroke-width:0.8;\"/>\r\n      </defs>\r\n      <g>\r\n       <use style=\"stroke:#000000;stroke-width:0.8;\" x=\"52.375\" xlink:href=\"#m24cdae0605\" y=\"224.64\"/>\r\n      </g>\r\n     </g>\r\n     <g id=\"text_7\">\r\n      <!-- 0 -->\r\n      <g transform=\"translate(39.0125 228.439219)scale(0.1 -0.1)\">\r\n       <use xlink:href=\"#DejaVuSans-48\"/>\r\n      </g>\r\n     </g>\r\n    </g>\r\n    <g id=\"ytick_2\">\r\n     <g id=\"line2d_15\">\r\n      <path clip-path=\"url(#p070189ad0a)\" d=\"M 52.375 184.830523 \r\nL 387.175 184.830523 \r\n\" style=\"fill:none;stroke:#b0b0b0;stroke-linecap:square;stroke-width:0.8;\"/>\r\n     </g>\r\n     <g id=\"line2d_16\">\r\n      <g>\r\n       <use style=\"stroke:#000000;stroke-width:0.8;\" x=\"52.375\" xlink:href=\"#m24cdae0605\" y=\"184.830523\"/>\r\n      </g>\r\n     </g>\r\n     <g id=\"text_8\">\r\n      <!-- 50000 -->\r\n      <g transform=\"translate(13.5625 188.629742)scale(0.1 -0.1)\">\r\n       <defs>\r\n        <path d=\"M 10.796875 72.90625 \r\nL 49.515625 72.90625 \r\nL 49.515625 64.59375 \r\nL 19.828125 64.59375 \r\nL 19.828125 46.734375 \r\nQ 21.96875 47.46875 24.109375 47.828125 \r\nQ 26.265625 48.1875 28.421875 48.1875 \r\nQ 40.625 48.1875 47.75 41.5 \r\nQ 54.890625 34.8125 54.890625 23.390625 \r\nQ 54.890625 11.625 47.5625 5.09375 \r\nQ 40.234375 -1.421875 26.90625 -1.421875 \r\nQ 22.3125 -1.421875 17.546875 -0.640625 \r\nQ 12.796875 0.140625 7.71875 1.703125 \r\nL 7.71875 11.625 \r\nQ 12.109375 9.234375 16.796875 8.0625 \r\nQ 21.484375 6.890625 26.703125 6.890625 \r\nQ 35.15625 6.890625 40.078125 11.328125 \r\nQ 45.015625 15.765625 45.015625 23.390625 \r\nQ 45.015625 31 40.078125 35.4375 \r\nQ 35.15625 39.890625 26.703125 39.890625 \r\nQ 22.75 39.890625 18.8125 39.015625 \r\nQ 14.890625 38.140625 10.796875 36.28125 \r\nz\r\n\" id=\"DejaVuSans-53\"/>\r\n       </defs>\r\n       <use xlink:href=\"#DejaVuSans-53\"/>\r\n       <use x=\"63.623047\" xlink:href=\"#DejaVuSans-48\"/>\r\n       <use x=\"127.246094\" xlink:href=\"#DejaVuSans-48\"/>\r\n       <use x=\"190.869141\" xlink:href=\"#DejaVuSans-48\"/>\r\n       <use x=\"254.492188\" xlink:href=\"#DejaVuSans-48\"/>\r\n      </g>\r\n     </g>\r\n    </g>\r\n    <g id=\"ytick_3\">\r\n     <g id=\"line2d_17\">\r\n      <path clip-path=\"url(#p070189ad0a)\" d=\"M 52.375 145.021046 \r\nL 387.175 145.021046 \r\n\" style=\"fill:none;stroke:#b0b0b0;stroke-linecap:square;stroke-width:0.8;\"/>\r\n     </g>\r\n     <g id=\"line2d_18\">\r\n      <g>\r\n       <use style=\"stroke:#000000;stroke-width:0.8;\" x=\"52.375\" xlink:href=\"#m24cdae0605\" y=\"145.021046\"/>\r\n      </g>\r\n     </g>\r\n     <g id=\"text_9\">\r\n      <!-- 100000 -->\r\n      <g transform=\"translate(7.2 148.820265)scale(0.1 -0.1)\">\r\n       <use xlink:href=\"#DejaVuSans-49\"/>\r\n       <use x=\"63.623047\" xlink:href=\"#DejaVuSans-48\"/>\r\n       <use x=\"127.246094\" xlink:href=\"#DejaVuSans-48\"/>\r\n       <use x=\"190.869141\" xlink:href=\"#DejaVuSans-48\"/>\r\n       <use x=\"254.492188\" xlink:href=\"#DejaVuSans-48\"/>\r\n       <use x=\"318.115234\" xlink:href=\"#DejaVuSans-48\"/>\r\n      </g>\r\n     </g>\r\n    </g>\r\n    <g id=\"ytick_4\">\r\n     <g id=\"line2d_19\">\r\n      <path clip-path=\"url(#p070189ad0a)\" d=\"M 52.375 105.211569 \r\nL 387.175 105.211569 \r\n\" style=\"fill:none;stroke:#b0b0b0;stroke-linecap:square;stroke-width:0.8;\"/>\r\n     </g>\r\n     <g id=\"line2d_20\">\r\n      <g>\r\n       <use style=\"stroke:#000000;stroke-width:0.8;\" x=\"52.375\" xlink:href=\"#m24cdae0605\" y=\"105.211569\"/>\r\n      </g>\r\n     </g>\r\n     <g id=\"text_10\">\r\n      <!-- 150000 -->\r\n      <g transform=\"translate(7.2 109.010788)scale(0.1 -0.1)\">\r\n       <use xlink:href=\"#DejaVuSans-49\"/>\r\n       <use x=\"63.623047\" xlink:href=\"#DejaVuSans-53\"/>\r\n       <use x=\"127.246094\" xlink:href=\"#DejaVuSans-48\"/>\r\n       <use x=\"190.869141\" xlink:href=\"#DejaVuSans-48\"/>\r\n       <use x=\"254.492188\" xlink:href=\"#DejaVuSans-48\"/>\r\n       <use x=\"318.115234\" xlink:href=\"#DejaVuSans-48\"/>\r\n      </g>\r\n     </g>\r\n    </g>\r\n    <g id=\"ytick_5\">\r\n     <g id=\"line2d_21\">\r\n      <path clip-path=\"url(#p070189ad0a)\" d=\"M 52.375 65.402092 \r\nL 387.175 65.402092 \r\n\" style=\"fill:none;stroke:#b0b0b0;stroke-linecap:square;stroke-width:0.8;\"/>\r\n     </g>\r\n     <g id=\"line2d_22\">\r\n      <g>\r\n       <use style=\"stroke:#000000;stroke-width:0.8;\" x=\"52.375\" xlink:href=\"#m24cdae0605\" y=\"65.402092\"/>\r\n      </g>\r\n     </g>\r\n     <g id=\"text_11\">\r\n      <!-- 200000 -->\r\n      <g transform=\"translate(7.2 69.201311)scale(0.1 -0.1)\">\r\n       <use xlink:href=\"#DejaVuSans-50\"/>\r\n       <use x=\"63.623047\" xlink:href=\"#DejaVuSans-48\"/>\r\n       <use x=\"127.246094\" xlink:href=\"#DejaVuSans-48\"/>\r\n       <use x=\"190.869141\" xlink:href=\"#DejaVuSans-48\"/>\r\n       <use x=\"254.492188\" xlink:href=\"#DejaVuSans-48\"/>\r\n       <use x=\"318.115234\" xlink:href=\"#DejaVuSans-48\"/>\r\n      </g>\r\n     </g>\r\n    </g>\r\n    <g id=\"ytick_6\">\r\n     <g id=\"line2d_23\">\r\n      <path clip-path=\"url(#p070189ad0a)\" d=\"M 52.375 25.592615 \r\nL 387.175 25.592615 \r\n\" style=\"fill:none;stroke:#b0b0b0;stroke-linecap:square;stroke-width:0.8;\"/>\r\n     </g>\r\n     <g id=\"line2d_24\">\r\n      <g>\r\n       <use style=\"stroke:#000000;stroke-width:0.8;\" x=\"52.375\" xlink:href=\"#m24cdae0605\" y=\"25.592615\"/>\r\n      </g>\r\n     </g>\r\n     <g id=\"text_12\">\r\n      <!-- 250000 -->\r\n      <g transform=\"translate(7.2 29.391834)scale(0.1 -0.1)\">\r\n       <use xlink:href=\"#DejaVuSans-50\"/>\r\n       <use x=\"63.623047\" xlink:href=\"#DejaVuSans-53\"/>\r\n       <use x=\"127.246094\" xlink:href=\"#DejaVuSans-48\"/>\r\n       <use x=\"190.869141\" xlink:href=\"#DejaVuSans-48\"/>\r\n       <use x=\"254.492188\" xlink:href=\"#DejaVuSans-48\"/>\r\n       <use x=\"318.115234\" xlink:href=\"#DejaVuSans-48\"/>\r\n      </g>\r\n     </g>\r\n    </g>\r\n   </g>\r\n   <g id=\"patch_23\">\r\n    <path d=\"M 52.375 224.64 \r\nL 52.375 7.2 \r\n\" style=\"fill:none;stroke:#000000;stroke-linecap:square;stroke-linejoin:miter;stroke-width:0.8;\"/>\r\n   </g>\r\n   <g id=\"patch_24\">\r\n    <path d=\"M 387.175 224.64 \r\nL 387.175 7.2 \r\n\" style=\"fill:none;stroke:#000000;stroke-linecap:square;stroke-linejoin:miter;stroke-width:0.8;\"/>\r\n   </g>\r\n   <g id=\"patch_25\">\r\n    <path d=\"M 52.375 224.64 \r\nL 387.175 224.64 \r\n\" style=\"fill:none;stroke:#000000;stroke-linecap:square;stroke-linejoin:miter;stroke-width:0.8;\"/>\r\n   </g>\r\n   <g id=\"patch_26\">\r\n    <path d=\"M 52.375 7.2 \r\nL 387.175 7.2 \r\n\" style=\"fill:none;stroke:#000000;stroke-linecap:square;stroke-linejoin:miter;stroke-width:0.8;\"/>\r\n   </g>\r\n  </g>\r\n </g>\r\n <defs>\r\n  <clipPath id=\"p070189ad0a\">\r\n   <rect height=\"217.44\" width=\"334.8\" x=\"52.375\" y=\"7.2\"/>\r\n  </clipPath>\r\n </defs>\r\n</svg>\r\n",
      "image/png": "[encoded data removed]"
     },
     "metadata": {
      "needs_background": "light"
     }
    }
   ],
   "source": [
    "loan_m['loan_time'].hist()\n",
    "print(loan_m['loan_time'].max())\n",
    "\n",
    "loan_m.groupby('id').count().time.hist()\n",
    "print(loan_m.groupby('id').count().time.max())  \n",
    "\n",
    "#the max Y_x we could have, we have data until month 100, but Y_max 72, predit the survival in next 6 years at monthly rate."
   ]
  },
  {
   "cell_type": "code",
   "execution_count": 4,
   "metadata": {},
   "outputs": [
    {
     "output_type": "stream",
     "name": "stdout",
     "text": [
      "['id', 'balance_time', 'LTV_time', 'interest_rate_time', 'hpi_time', 'gdp_time', 'uer_time', 'REtype_CO_orig_time', 'REtype_PU_orig_time', 'REtype_SF_orig_time', 'investor_orig_time', 'balance_orig_time', 'FICO_orig_time', 'LTV_orig_time', 'Interest_Rate_orig_time', 'hpi_orig_time']\n"
     ]
    }
   ],
   "source": [
    "cox_var = [var for var in loan_m.columns if not var in ['time', 'orig_time', 'first_time', 'mat_time',\n",
    "'payoff_time', 'status_time', 'loan_time','label', 'default_time']]\n",
    "print(cox_var)\n",
    "orig_var = [ 'REtype_CO_orig_time', 'REtype_PU_orig_time', 'REtype_SF_orig_time', 'investor_orig_time', 'balance_orig_time', 'FICO_orig_time', 'LTV_orig_time', 'Interest_Rate_orig_time', 'hpi_orig_time']\n",
    "varying_co = ['balance_time', 'LTV_time', 'interest_rate_time', 'hpi_time', 'gdp_time', 'uer_time']"
   ]
  },
  {
   "cell_type": "code",
   "execution_count": 5,
   "metadata": {},
   "outputs": [],
   "source": [
    "# prepare data for cox_regression without varying data\n",
    "data_cox = loan_m[orig_var + ['id']]\n",
    "data_cox = data_cox.groupby('id').median()\n",
    "duration = loan_m.groupby('id').agg({'time':'count', 'status_time': 'max'}).reset_index()\n",
    "duration.columns = ['id', 'duration', 'label']\n",
    "data_cox = pd.merge(data_cox, duration, on = 'id', how = 'left')\n",
    "data_cox['label'] = [1 if l == 1 else 0 for l in data_cox['label'] ]"
   ]
  },
  {
   "cell_type": "code",
   "execution_count": 6,
   "metadata": {},
   "outputs": [
    {
     "output_type": "execute_result",
     "data": {
      "text/plain": [
       "<AxesSubplot:xlabel='timeline'>"
      ]
     },
     "metadata": {},
     "execution_count": 6
    },
    {
     "output_type": "display_data",
     "data": {
      "text/plain": "<Figure size 432x288 with 1 Axes>",
      "image/svg+xml": "<?xml version=\"1.0\" encoding=\"utf-8\" standalone=\"no\"?>\r\n<!DOCTYPE svg PUBLIC \"-//W3C//DTD SVG 1.1//EN\"\r\n  \"http://www.w3.org/Graphics/SVG/1.1/DTD/svg11.dtd\">\r\n<!-- Created with matplotlib (https://matplotlib.org/) -->\r\n<svg height=\"262.19625pt\" version=\"1.1\" viewBox=\"0 0 372.103125 262.19625\" width=\"372.103125pt\" xmlns=\"http://www.w3.org/2000/svg\" xmlns:xlink=\"http://www.w3.org/1999/xlink\">\r\n <metadata>\r\n  <rdf:RDF xmlns:cc=\"http://creativecommons.org/ns#\" xmlns:dc=\"http://purl.org/dc/elements/1.1/\" xmlns:rdf=\"http://www.w3.org/1999/02/22-rdf-syntax-ns#\">\r\n   <cc:Work>\r\n    <dc:type rdf:resource=\"http://purl.org/dc/dcmitype/StillImage\"/>\r\n    <dc:date>2020-11-27T01:27:50.633380</dc:date>\r\n    <dc:format>image/svg+xml</dc:format>\r\n    <dc:creator>\r\n     <cc:Agent>\r\n      <dc:title>Matplotlib v3.3.2, https://matplotlib.org/</dc:title>\r\n     </cc:Agent>\r\n    </dc:creator>\r\n   </cc:Work>\r\n  </rdf:RDF>\r\n </metadata>\r\n <defs>\r\n  <style type=\"text/css\">*{stroke-linecap:butt;stroke-linejoin:round;}</style>\r\n </defs>\r\n <g id=\"figure_1\">\r\n  <g id=\"patch_1\">\r\n   <path d=\"M 0 262.19625 \r\nL 372.103125 262.19625 \r\nL 372.103125 0 \r\nL 0 0 \r\nz\r\n\" style=\"fill:none;\"/>\r\n  </g>\r\n  <g id=\"axes_1\">\r\n   <g id=\"patch_2\">\r\n    <path d=\"M 30.103125 224.64 \r\nL 364.903125 224.64 \r\nL 364.903125 7.2 \r\nL 30.103125 7.2 \r\nz\r\n\" style=\"fill:#ffffff;\"/>\r\n   </g>\r\n   <g id=\"PolyCollection_1\">\r\n    <defs>\r\n     <path d=\"M 45.321307 -245.112614 \r\nL 45.321307 -245.112614 \r\nL 50.394034 -245.112614 \r\nL 50.394034 -240.484234 \r\nL 55.466761 -240.484234 \r\nL 55.466761 -233.704022 \r\nL 60.539489 -233.704022 \r\nL 60.539489 -225.658708 \r\nL 65.612216 -225.658708 \r\nL 65.612216 -217.361966 \r\nL 70.684943 -217.361966 \r\nL 70.684943 -208.145158 \r\nL 75.75767 -208.145158 \r\nL 75.75767 -198.834391 \r\nL 80.830398 -198.834391 \r\nL 80.830398 -189.01009 \r\nL 85.903125 -189.01009 \r\nL 85.903125 -178.025704 \r\nL 90.975852 -178.025704 \r\nL 90.975852 -167.352375 \r\nL 96.04858 -167.352375 \r\nL 96.04858 -157.228295 \r\nL 101.121307 -157.228295 \r\nL 101.121307 -147.600573 \r\nL 106.194034 -147.600573 \r\nL 106.194034 -139.095011 \r\nL 111.266761 -139.095011 \r\nL 111.266761 -130.937363 \r\nL 116.339489 -130.937363 \r\nL 116.339489 -123.57003 \r\nL 121.412216 -123.57003 \r\nL 121.412216 -116.909011 \r\nL 126.484943 -116.909011 \r\nL 126.484943 -110.769218 \r\nL 131.55767 -110.769218 \r\nL 131.55767 -105.348748 \r\nL 136.630398 -105.348748 \r\nL 136.630398 -100.144291 \r\nL 141.703125 -100.144291 \r\nL 141.703125 -95.189773 \r\nL 146.775852 -95.189773 \r\nL 146.775852 -90.486742 \r\nL 151.84858 -90.486742 \r\nL 151.84858 -85.974646 \r\nL 156.921307 -85.974646 \r\nL 156.921307 -82.200574 \r\nL 161.994034 -82.200574 \r\nL 161.994034 -78.633435 \r\nL 167.066761 -78.633435 \r\nL 167.066761 -75.411007 \r\nL 172.139489 -75.411007 \r\nL 172.139489 -72.552927 \r\nL 177.212216 -72.552927 \r\nL 177.212216 -70.197052 \r\nL 182.284943 -70.197052 \r\nL 182.284943 -68.024332 \r\nL 187.35767 -68.024332 \r\nL 187.35767 -66.285533 \r\nL 192.430398 -66.285533 \r\nL 192.430398 -64.550393 \r\nL 197.503125 -64.550393 \r\nL 197.503125 -62.734782 \r\nL 202.575852 -62.734782 \r\nL 202.575852 -61.06163 \r\nL 207.64858 -61.06163 \r\nL 207.64858 -59.734056 \r\nL 212.721307 -59.734056 \r\nL 212.721307 -58.659119 \r\nL 217.794034 -58.659119 \r\nL 217.794034 -57.865952 \r\nL 222.866761 -57.865952 \r\nL 222.866761 -57.061405 \r\nL 227.939489 -57.061405 \r\nL 227.939489 -56.002325 \r\nL 233.012216 -56.002325 \r\nL 233.012216 -55.232582 \r\nL 238.084943 -55.232582 \r\nL 238.084943 -54.242746 \r\nL 243.15767 -54.242746 \r\nL 243.15767 -52.816278 \r\nL 248.230398 -52.816278 \r\nL 248.230398 -52.306162 \r\nL 253.303125 -52.306162 \r\nL 253.303125 -51.636905 \r\nL 258.375852 -51.636905 \r\nL 258.375852 -50.85838 \r\nL 263.44858 -50.85838 \r\nL 263.44858 -50.471201 \r\nL 268.521307 -50.471201 \r\nL 268.521307 -47.439886 \r\nL 273.594034 -47.439886 \r\nL 273.594034 -47.439886 \r\nL 278.666761 -47.439886 \r\nL 278.666761 -47.439886 \r\nL 283.739489 -47.439886 \r\nL 283.739489 -47.439886 \r\nL 288.812216 -47.439886 \r\nL 288.812216 -47.439886 \r\nL 293.884943 -47.439886 \r\nL 293.884943 -47.439886 \r\nL 298.95767 -47.439886 \r\nL 298.95767 -47.439886 \r\nL 304.030398 -47.439886 \r\nL 304.030398 -47.439886 \r\nL 349.684943 -47.439886 \r\nL 349.684943 -47.439886 \r\nL 349.684943 -54.359473 \r\nL 349.684943 -54.359473 \r\nL 349.684943 -54.359473 \r\nL 304.030398 -54.359473 \r\nL 304.030398 -54.359473 \r\nL 298.95767 -54.359473 \r\nL 298.95767 -54.359473 \r\nL 293.884943 -54.359473 \r\nL 293.884943 -54.359473 \r\nL 288.812216 -54.359473 \r\nL 288.812216 -54.359473 \r\nL 283.739489 -54.359473 \r\nL 283.739489 -54.359473 \r\nL 278.666761 -54.359473 \r\nL 278.666761 -54.359473 \r\nL 273.594034 -54.359473 \r\nL 273.594034 -54.359473 \r\nL 268.521307 -54.359473 \r\nL 268.521307 -55.877275 \r\nL 263.44858 -55.877275 \r\nL 263.44858 -56.129025 \r\nL 258.375852 -56.129025 \r\nL 258.375852 -56.703872 \r\nL 253.303125 -56.703872 \r\nL 253.303125 -57.251164 \r\nL 248.230398 -57.251164 \r\nL 248.230398 -57.688635 \r\nL 243.15767 -57.688635 \r\nL 243.15767 -58.962441 \r\nL 238.084943 -58.962441 \r\nL 238.084943 -59.867383 \r\nL 233.012216 -59.867383 \r\nL 233.012216 -60.587925 \r\nL 227.939489 -60.587925 \r\nL 227.939489 -61.598597 \r\nL 222.866761 -61.598597 \r\nL 222.866761 -62.372779 \r\nL 217.794034 -62.372779 \r\nL 217.794034 -63.142658 \r\nL 212.721307 -63.142658 \r\nL 212.721307 -64.194822 \r\nL 207.64858 -64.194822 \r\nL 207.64858 -65.500088 \r\nL 202.575852 -65.500088 \r\nL 202.575852 -67.152809 \r\nL 197.503125 -67.152809 \r\nL 197.503125 -68.949205 \r\nL 192.430398 -68.949205 \r\nL 192.430398 -70.667133 \r\nL 187.35767 -70.667133 \r\nL 187.35767 -72.38914 \r\nL 182.284943 -72.38914 \r\nL 182.284943 -74.541638 \r\nL 177.212216 -74.541638 \r\nL 177.212216 -76.876027 \r\nL 172.139489 -76.876027 \r\nL 172.139489 -79.70815 \r\nL 167.066761 -79.70815 \r\nL 167.066761 -82.900596 \r\nL 161.994034 -82.900596 \r\nL 161.994034 -86.433665 \r\nL 156.921307 -86.433665 \r\nL 156.921307 -90.170444 \r\nL 151.84858 -90.170444 \r\nL 151.84858 -94.636854 \r\nL 146.775852 -94.636854 \r\nL 146.775852 -99.290415 \r\nL 141.703125 -99.290415 \r\nL 141.703125 -104.190491 \r\nL 136.630398 -104.190491 \r\nL 136.630398 -109.335156 \r\nL 131.55767 -109.335156 \r\nL 131.55767 -114.689946 \r\nL 126.484943 -114.689946 \r\nL 126.484943 -120.750942 \r\nL 121.412216 -120.750942 \r\nL 121.412216 -127.31989 \r\nL 116.339489 -127.31989 \r\nL 116.339489 -134.578241 \r\nL 111.266761 -134.578241 \r\nL 111.266761 -142.605492 \r\nL 106.194034 -142.605492 \r\nL 106.194034 -150.964919 \r\nL 101.121307 -150.964919 \r\nL 101.121307 -160.41296 \r\nL 96.04858 -160.41296 \r\nL 96.04858 -170.327677 \r\nL 90.975852 -170.327677 \r\nL 90.975852 -180.777956 \r\nL 85.903125 -180.777956 \r\nL 85.903125 -191.511935 \r\nL 80.830398 -191.511935 \r\nL 80.830398 -201.094093 \r\nL 75.75767 -201.094093 \r\nL 75.75767 -210.151394 \r\nL 70.684943 -210.151394 \r\nL 70.684943 -219.083757 \r\nL 65.612216 -219.083757 \r\nL 65.612216 -227.085055 \r\nL 60.539489 -227.085055 \r\nL 60.539489 -234.779888 \r\nL 55.466761 -234.779888 \r\nL 55.466761 -241.153023 \r\nL 50.394034 -241.153023 \r\nL 50.394034 -245.112614 \r\nL 45.321307 -245.112614 \r\nz\r\n\" id=\"m5cecc040a5\" style=\"stroke:#1f77b4;stroke-opacity:0.25;\"/>\r\n    </defs>\r\n    <g clip-path=\"url(#p9259b3c4b9)\">\r\n     <use style=\"fill:#1f77b4;fill-opacity:0.25;stroke:#1f77b4;stroke-opacity:0.25;\" x=\"0\" xlink:href=\"#m5cecc040a5\" y=\"262.19625\"/>\r\n    </g>\r\n   </g>\r\n   <g id=\"matplotlib.axis_1\">\r\n    <g id=\"xtick_1\">\r\n     <g id=\"line2d_1\">\r\n      <defs>\r\n       <path d=\"M 0 0 \r\nL 0 3.5 \r\n\" id=\"me565be2e5b\" style=\"stroke:#000000;stroke-width:0.8;\"/>\r\n      </defs>\r\n      <g>\r\n       <use style=\"stroke:#000000;stroke-width:0.8;\" x=\"45.321307\" xlink:href=\"#me565be2e5b\" y=\"224.64\"/>\r\n      </g>\r\n     </g>\r\n     <g id=\"text_1\">\r\n      <!-- 0 -->\r\n      <g transform=\"translate(42.140057 239.238437)scale(0.1 -0.1)\">\r\n       <defs>\r\n        <path d=\"M 31.78125 66.40625 \r\nQ 24.171875 66.40625 20.328125 58.90625 \r\nQ 16.5 51.421875 16.5 36.375 \r\nQ 16.5 21.390625 20.328125 13.890625 \r\nQ 24.171875 6.390625 31.78125 6.390625 \r\nQ 39.453125 6.390625 43.28125 13.890625 \r\nQ 47.125 21.390625 47.125 36.375 \r\nQ 47.125 51.421875 43.28125 58.90625 \r\nQ 39.453125 66.40625 31.78125 66.40625 \r\nz\r\nM 31.78125 74.21875 \r\nQ 44.046875 74.21875 50.515625 64.515625 \r\nQ 56.984375 54.828125 56.984375 36.375 \r\nQ 56.984375 17.96875 50.515625 8.265625 \r\nQ 44.046875 -1.421875 31.78125 -1.421875 \r\nQ 19.53125 -1.421875 13.0625 8.265625 \r\nQ 6.59375 17.96875 6.59375 36.375 \r\nQ 6.59375 54.828125 13.0625 64.515625 \r\nQ 19.53125 74.21875 31.78125 74.21875 \r\nz\r\n\" id=\"DejaVuSans-48\"/>\r\n       </defs>\r\n       <use xlink:href=\"#DejaVuSans-48\"/>\r\n      </g>\r\n     </g>\r\n    </g>\r\n    <g id=\"xtick_2\">\r\n     <g id=\"line2d_2\">\r\n      <g>\r\n       <use style=\"stroke:#000000;stroke-width:0.8;\" x=\"96.04858\" xlink:href=\"#me565be2e5b\" y=\"224.64\"/>\r\n      </g>\r\n     </g>\r\n     <g id=\"text_2\">\r\n      <!-- 10 -->\r\n      <g transform=\"translate(89.68608 239.238437)scale(0.1 -0.1)\">\r\n       <defs>\r\n        <path d=\"M 12.40625 8.296875 \r\nL 28.515625 8.296875 \r\nL 28.515625 63.921875 \r\nL 10.984375 60.40625 \r\nL 10.984375 69.390625 \r\nL 28.421875 72.90625 \r\nL 38.28125 72.90625 \r\nL 38.28125 8.296875 \r\nL 54.390625 8.296875 \r\nL 54.390625 0 \r\nL 12.40625 0 \r\nz\r\n\" id=\"DejaVuSans-49\"/>\r\n       </defs>\r\n       <use xlink:href=\"#DejaVuSans-49\"/>\r\n       <use x=\"63.623047\" xlink:href=\"#DejaVuSans-48\"/>\r\n      </g>\r\n     </g>\r\n    </g>\r\n    <g id=\"xtick_3\">\r\n     <g id=\"line2d_3\">\r\n      <g>\r\n       <use style=\"stroke:#000000;stroke-width:0.8;\" x=\"146.775852\" xlink:href=\"#me565be2e5b\" y=\"224.64\"/>\r\n      </g>\r\n     </g>\r\n     <g id=\"text_3\">\r\n      <!-- 20 -->\r\n      <g transform=\"translate(140.413352 239.238437)scale(0.1 -0.1)\">\r\n       <defs>\r\n        <path d=\"M 19.1875 8.296875 \r\nL 53.609375 8.296875 \r\nL 53.609375 0 \r\nL 7.328125 0 \r\nL 7.328125 8.296875 \r\nQ 12.9375 14.109375 22.625 23.890625 \r\nQ 32.328125 33.6875 34.8125 36.53125 \r\nQ 39.546875 41.84375 41.421875 45.53125 \r\nQ 43.3125 49.21875 43.3125 52.78125 \r\nQ 43.3125 58.59375 39.234375 62.25 \r\nQ 35.15625 65.921875 28.609375 65.921875 \r\nQ 23.96875 65.921875 18.8125 64.3125 \r\nQ 13.671875 62.703125 7.8125 59.421875 \r\nL 7.8125 69.390625 \r\nQ 13.765625 71.78125 18.9375 73 \r\nQ 24.125 74.21875 28.421875 74.21875 \r\nQ 39.75 74.21875 46.484375 68.546875 \r\nQ 53.21875 62.890625 53.21875 53.421875 \r\nQ 53.21875 48.921875 51.53125 44.890625 \r\nQ 49.859375 40.875 45.40625 35.40625 \r\nQ 44.1875 33.984375 37.640625 27.21875 \r\nQ 31.109375 20.453125 19.1875 8.296875 \r\nz\r\n\" id=\"DejaVuSans-50\"/>\r\n       </defs>\r\n       <use xlink:href=\"#DejaVuSans-50\"/>\r\n       <use x=\"63.623047\" xlink:href=\"#DejaVuSans-48\"/>\r\n      </g>\r\n     </g>\r\n    </g>\r\n    <g id=\"xtick_4\">\r\n     <g id=\"line2d_4\">\r\n      <g>\r\n       <use style=\"stroke:#000000;stroke-width:0.8;\" x=\"197.503125\" xlink:href=\"#me565be2e5b\" y=\"224.64\"/>\r\n      </g>\r\n     </g>\r\n     <g id=\"text_4\">\r\n      <!-- 30 -->\r\n      <g transform=\"translate(191.140625 239.238437)scale(0.1 -0.1)\">\r\n       <defs>\r\n        <path d=\"M 40.578125 39.3125 \r\nQ 47.65625 37.796875 51.625 33 \r\nQ 55.609375 28.21875 55.609375 21.1875 \r\nQ 55.609375 10.40625 48.1875 4.484375 \r\nQ 40.765625 -1.421875 27.09375 -1.421875 \r\nQ 22.515625 -1.421875 17.65625 -0.515625 \r\nQ 12.796875 0.390625 7.625 2.203125 \r\nL 7.625 11.71875 \r\nQ 11.71875 9.328125 16.59375 8.109375 \r\nQ 21.484375 6.890625 26.8125 6.890625 \r\nQ 36.078125 6.890625 40.9375 10.546875 \r\nQ 45.796875 14.203125 45.796875 21.1875 \r\nQ 45.796875 27.640625 41.28125 31.265625 \r\nQ 36.765625 34.90625 28.71875 34.90625 \r\nL 20.21875 34.90625 \r\nL 20.21875 43.015625 \r\nL 29.109375 43.015625 \r\nQ 36.375 43.015625 40.234375 45.921875 \r\nQ 44.09375 48.828125 44.09375 54.296875 \r\nQ 44.09375 59.90625 40.109375 62.90625 \r\nQ 36.140625 65.921875 28.71875 65.921875 \r\nQ 24.65625 65.921875 20.015625 65.03125 \r\nQ 15.375 64.15625 9.8125 62.3125 \r\nL 9.8125 71.09375 \r\nQ 15.4375 72.65625 20.34375 73.4375 \r\nQ 25.25 74.21875 29.59375 74.21875 \r\nQ 40.828125 74.21875 47.359375 69.109375 \r\nQ 53.90625 64.015625 53.90625 55.328125 \r\nQ 53.90625 49.265625 50.4375 45.09375 \r\nQ 46.96875 40.921875 40.578125 39.3125 \r\nz\r\n\" id=\"DejaVuSans-51\"/>\r\n       </defs>\r\n       <use xlink:href=\"#DejaVuSans-51\"/>\r\n       <use x=\"63.623047\" xlink:href=\"#DejaVuSans-48\"/>\r\n      </g>\r\n     </g>\r\n    </g>\r\n    <g id=\"xtick_5\">\r\n     <g id=\"line2d_5\">\r\n      <g>\r\n       <use style=\"stroke:#000000;stroke-width:0.8;\" x=\"248.230398\" xlink:href=\"#me565be2e5b\" y=\"224.64\"/>\r\n      </g>\r\n     </g>\r\n     <g id=\"text_5\">\r\n      <!-- 40 -->\r\n      <g transform=\"translate(241.867898 239.238437)scale(0.1 -0.1)\">\r\n       <defs>\r\n        <path d=\"M 37.796875 64.3125 \r\nL 12.890625 25.390625 \r\nL 37.796875 25.390625 \r\nz\r\nM 35.203125 72.90625 \r\nL 47.609375 72.90625 \r\nL 47.609375 25.390625 \r\nL 58.015625 25.390625 \r\nL 58.015625 17.1875 \r\nL 47.609375 17.1875 \r\nL 47.609375 0 \r\nL 37.796875 0 \r\nL 37.796875 17.1875 \r\nL 4.890625 17.1875 \r\nL 4.890625 26.703125 \r\nz\r\n\" id=\"DejaVuSans-52\"/>\r\n       </defs>\r\n       <use xlink:href=\"#DejaVuSans-52\"/>\r\n       <use x=\"63.623047\" xlink:href=\"#DejaVuSans-48\"/>\r\n      </g>\r\n     </g>\r\n    </g>\r\n    <g id=\"xtick_6\">\r\n     <g id=\"line2d_6\">\r\n      <g>\r\n       <use style=\"stroke:#000000;stroke-width:0.8;\" x=\"298.95767\" xlink:href=\"#me565be2e5b\" y=\"224.64\"/>\r\n      </g>\r\n     </g>\r\n     <g id=\"text_6\">\r\n      <!-- 50 -->\r\n      <g transform=\"translate(292.59517 239.238437)scale(0.1 -0.1)\">\r\n       <defs>\r\n        <path d=\"M 10.796875 72.90625 \r\nL 49.515625 72.90625 \r\nL 49.515625 64.59375 \r\nL 19.828125 64.59375 \r\nL 19.828125 46.734375 \r\nQ 21.96875 47.46875 24.109375 47.828125 \r\nQ 26.265625 48.1875 28.421875 48.1875 \r\nQ 40.625 48.1875 47.75 41.5 \r\nQ 54.890625 34.8125 54.890625 23.390625 \r\nQ 54.890625 11.625 47.5625 5.09375 \r\nQ 40.234375 -1.421875 26.90625 -1.421875 \r\nQ 22.3125 -1.421875 17.546875 -0.640625 \r\nQ 12.796875 0.140625 7.71875 1.703125 \r\nL 7.71875 11.625 \r\nQ 12.109375 9.234375 16.796875 8.0625 \r\nQ 21.484375 6.890625 26.703125 6.890625 \r\nQ 35.15625 6.890625 40.078125 11.328125 \r\nQ 45.015625 15.765625 45.015625 23.390625 \r\nQ 45.015625 31 40.078125 35.4375 \r\nQ 35.15625 39.890625 26.703125 39.890625 \r\nQ 22.75 39.890625 18.8125 39.015625 \r\nQ 14.890625 38.140625 10.796875 36.28125 \r\nz\r\n\" id=\"DejaVuSans-53\"/>\r\n       </defs>\r\n       <use xlink:href=\"#DejaVuSans-53\"/>\r\n       <use x=\"63.623047\" xlink:href=\"#DejaVuSans-48\"/>\r\n      </g>\r\n     </g>\r\n    </g>\r\n    <g id=\"xtick_7\">\r\n     <g id=\"line2d_7\">\r\n      <g>\r\n       <use style=\"stroke:#000000;stroke-width:0.8;\" x=\"349.684943\" xlink:href=\"#me565be2e5b\" y=\"224.64\"/>\r\n      </g>\r\n     </g>\r\n     <g id=\"text_7\">\r\n      <!-- 60 -->\r\n      <g transform=\"translate(343.322443 239.238437)scale(0.1 -0.1)\">\r\n       <defs>\r\n        <path d=\"M 33.015625 40.375 \r\nQ 26.375 40.375 22.484375 35.828125 \r\nQ 18.609375 31.296875 18.609375 23.390625 \r\nQ 18.609375 15.53125 22.484375 10.953125 \r\nQ 26.375 6.390625 33.015625 6.390625 \r\nQ 39.65625 6.390625 43.53125 10.953125 \r\nQ 47.40625 15.53125 47.40625 23.390625 \r\nQ 47.40625 31.296875 43.53125 35.828125 \r\nQ 39.65625 40.375 33.015625 40.375 \r\nz\r\nM 52.59375 71.296875 \r\nL 52.59375 62.3125 \r\nQ 48.875 64.0625 45.09375 64.984375 \r\nQ 41.3125 65.921875 37.59375 65.921875 \r\nQ 27.828125 65.921875 22.671875 59.328125 \r\nQ 17.53125 52.734375 16.796875 39.40625 \r\nQ 19.671875 43.65625 24.015625 45.921875 \r\nQ 28.375 48.1875 33.59375 48.1875 \r\nQ 44.578125 48.1875 50.953125 41.515625 \r\nQ 57.328125 34.859375 57.328125 23.390625 \r\nQ 57.328125 12.15625 50.6875 5.359375 \r\nQ 44.046875 -1.421875 33.015625 -1.421875 \r\nQ 20.359375 -1.421875 13.671875 8.265625 \r\nQ 6.984375 17.96875 6.984375 36.375 \r\nQ 6.984375 53.65625 15.1875 63.9375 \r\nQ 23.390625 74.21875 37.203125 74.21875 \r\nQ 40.921875 74.21875 44.703125 73.484375 \r\nQ 48.484375 72.75 52.59375 71.296875 \r\nz\r\n\" id=\"DejaVuSans-54\"/>\r\n       </defs>\r\n       <use xlink:href=\"#DejaVuSans-54\"/>\r\n       <use x=\"63.623047\" xlink:href=\"#DejaVuSans-48\"/>\r\n      </g>\r\n     </g>\r\n    </g>\r\n    <g id=\"text_8\">\r\n     <!-- timeline -->\r\n     <g transform=\"translate(177.183594 252.916562)scale(0.1 -0.1)\">\r\n      <defs>\r\n       <path d=\"M 18.3125 70.21875 \r\nL 18.3125 54.6875 \r\nL 36.8125 54.6875 \r\nL 36.8125 47.703125 \r\nL 18.3125 47.703125 \r\nL 18.3125 18.015625 \r\nQ 18.3125 11.328125 20.140625 9.421875 \r\nQ 21.96875 7.515625 27.59375 7.515625 \r\nL 36.8125 7.515625 \r\nL 36.8125 0 \r\nL 27.59375 0 \r\nQ 17.1875 0 13.234375 3.875 \r\nQ 9.28125 7.765625 9.28125 18.015625 \r\nL 9.28125 47.703125 \r\nL 2.6875 47.703125 \r\nL 2.6875 54.6875 \r\nL 9.28125 54.6875 \r\nL 9.28125 70.21875 \r\nz\r\n\" id=\"DejaVuSans-116\"/>\r\n       <path d=\"M 9.421875 54.6875 \r\nL 18.40625 54.6875 \r\nL 18.40625 0 \r\nL 9.421875 0 \r\nz\r\nM 9.421875 75.984375 \r\nL 18.40625 75.984375 \r\nL 18.40625 64.59375 \r\nL 9.421875 64.59375 \r\nz\r\n\" id=\"DejaVuSans-105\"/>\r\n       <path d=\"M 52 44.1875 \r\nQ 55.375 50.25 60.0625 53.125 \r\nQ 64.75 56 71.09375 56 \r\nQ 79.640625 56 84.28125 50.015625 \r\nQ 88.921875 44.046875 88.921875 33.015625 \r\nL 88.921875 0 \r\nL 79.890625 0 \r\nL 79.890625 32.71875 \r\nQ 79.890625 40.578125 77.09375 44.375 \r\nQ 74.3125 48.1875 68.609375 48.1875 \r\nQ 61.625 48.1875 57.5625 43.546875 \r\nQ 53.515625 38.921875 53.515625 30.90625 \r\nL 53.515625 0 \r\nL 44.484375 0 \r\nL 44.484375 32.71875 \r\nQ 44.484375 40.625 41.703125 44.40625 \r\nQ 38.921875 48.1875 33.109375 48.1875 \r\nQ 26.21875 48.1875 22.15625 43.53125 \r\nQ 18.109375 38.875 18.109375 30.90625 \r\nL 18.109375 0 \r\nL 9.078125 0 \r\nL 9.078125 54.6875 \r\nL 18.109375 54.6875 \r\nL 18.109375 46.1875 \r\nQ 21.1875 51.21875 25.484375 53.609375 \r\nQ 29.78125 56 35.6875 56 \r\nQ 41.65625 56 45.828125 52.96875 \r\nQ 50 49.953125 52 44.1875 \r\nz\r\n\" id=\"DejaVuSans-109\"/>\r\n       <path d=\"M 56.203125 29.59375 \r\nL 56.203125 25.203125 \r\nL 14.890625 25.203125 \r\nQ 15.484375 15.921875 20.484375 11.0625 \r\nQ 25.484375 6.203125 34.421875 6.203125 \r\nQ 39.59375 6.203125 44.453125 7.46875 \r\nQ 49.3125 8.734375 54.109375 11.28125 \r\nL 54.109375 2.78125 \r\nQ 49.265625 0.734375 44.1875 -0.34375 \r\nQ 39.109375 -1.421875 33.890625 -1.421875 \r\nQ 20.796875 -1.421875 13.15625 6.1875 \r\nQ 5.515625 13.8125 5.515625 26.8125 \r\nQ 5.515625 40.234375 12.765625 48.109375 \r\nQ 20.015625 56 32.328125 56 \r\nQ 43.359375 56 49.78125 48.890625 \r\nQ 56.203125 41.796875 56.203125 29.59375 \r\nz\r\nM 47.21875 32.234375 \r\nQ 47.125 39.59375 43.09375 43.984375 \r\nQ 39.0625 48.390625 32.421875 48.390625 \r\nQ 24.90625 48.390625 20.390625 44.140625 \r\nQ 15.875 39.890625 15.1875 32.171875 \r\nz\r\n\" id=\"DejaVuSans-101\"/>\r\n       <path d=\"M 9.421875 75.984375 \r\nL 18.40625 75.984375 \r\nL 18.40625 0 \r\nL 9.421875 0 \r\nz\r\n\" id=\"DejaVuSans-108\"/>\r\n       <path d=\"M 54.890625 33.015625 \r\nL 54.890625 0 \r\nL 45.90625 0 \r\nL 45.90625 32.71875 \r\nQ 45.90625 40.484375 42.875 44.328125 \r\nQ 39.84375 48.1875 33.796875 48.1875 \r\nQ 26.515625 48.1875 22.3125 43.546875 \r\nQ 18.109375 38.921875 18.109375 30.90625 \r\nL 18.109375 0 \r\nL 9.078125 0 \r\nL 9.078125 54.6875 \r\nL 18.109375 54.6875 \r\nL 18.109375 46.1875 \r\nQ 21.34375 51.125 25.703125 53.5625 \r\nQ 30.078125 56 35.796875 56 \r\nQ 45.21875 56 50.046875 50.171875 \r\nQ 54.890625 44.34375 54.890625 33.015625 \r\nz\r\n\" id=\"DejaVuSans-110\"/>\r\n      </defs>\r\n      <use xlink:href=\"#DejaVuSans-116\"/>\r\n      <use x=\"39.208984\" xlink:href=\"#DejaVuSans-105\"/>\r\n      <use x=\"66.992188\" xlink:href=\"#DejaVuSans-109\"/>\r\n      <use x=\"164.404297\" xlink:href=\"#DejaVuSans-101\"/>\r\n      <use x=\"225.927734\" xlink:href=\"#DejaVuSans-108\"/>\r\n      <use x=\"253.710938\" xlink:href=\"#DejaVuSans-105\"/>\r\n      <use x=\"281.494141\" xlink:href=\"#DejaVuSans-110\"/>\r\n      <use x=\"344.873047\" xlink:href=\"#DejaVuSans-101\"/>\r\n     </g>\r\n    </g>\r\n   </g>\r\n   <g id=\"matplotlib.axis_2\">\r\n    <g id=\"ytick_1\">\r\n     <g id=\"line2d_8\">\r\n      <defs>\r\n       <path d=\"M 0 0 \r\nL -3.5 0 \r\n\" id=\"md1ad6a86ab\" style=\"stroke:#000000;stroke-width:0.8;\"/>\r\n      </defs>\r\n      <g>\r\n       <use style=\"stroke:#000000;stroke-width:0.8;\" x=\"30.103125\" xlink:href=\"#md1ad6a86ab\" y=\"223.232615\"/>\r\n      </g>\r\n     </g>\r\n     <g id=\"text_9\">\r\n      <!-- 0.4 -->\r\n      <g transform=\"translate(7.2 227.031834)scale(0.1 -0.1)\">\r\n       <defs>\r\n        <path d=\"M 10.6875 12.40625 \r\nL 21 12.40625 \r\nL 21 0 \r\nL 10.6875 0 \r\nz\r\n\" id=\"DejaVuSans-46\"/>\r\n       </defs>\r\n       <use xlink:href=\"#DejaVuSans-48\"/>\r\n       <use x=\"63.623047\" xlink:href=\"#DejaVuSans-46\"/>\r\n       <use x=\"95.410156\" xlink:href=\"#DejaVuSans-52\"/>\r\n      </g>\r\n     </g>\r\n    </g>\r\n    <g id=\"ytick_2\">\r\n     <g id=\"line2d_9\">\r\n      <g>\r\n       <use style=\"stroke:#000000;stroke-width:0.8;\" x=\"30.103125\" xlink:href=\"#md1ad6a86ab\" y=\"188.874452\"/>\r\n      </g>\r\n     </g>\r\n     <g id=\"text_10\">\r\n      <!-- 0.5 -->\r\n      <g transform=\"translate(7.2 192.673671)scale(0.1 -0.1)\">\r\n       <use xlink:href=\"#DejaVuSans-48\"/>\r\n       <use x=\"63.623047\" xlink:href=\"#DejaVuSans-46\"/>\r\n       <use x=\"95.410156\" xlink:href=\"#DejaVuSans-53\"/>\r\n      </g>\r\n     </g>\r\n    </g>\r\n    <g id=\"ytick_3\">\r\n     <g id=\"line2d_10\">\r\n      <g>\r\n       <use style=\"stroke:#000000;stroke-width:0.8;\" x=\"30.103125\" xlink:href=\"#md1ad6a86ab\" y=\"154.516289\"/>\r\n      </g>\r\n     </g>\r\n     <g id=\"text_11\">\r\n      <!-- 0.6 -->\r\n      <g transform=\"translate(7.2 158.315507)scale(0.1 -0.1)\">\r\n       <use xlink:href=\"#DejaVuSans-48\"/>\r\n       <use x=\"63.623047\" xlink:href=\"#DejaVuSans-46\"/>\r\n       <use x=\"95.410156\" xlink:href=\"#DejaVuSans-54\"/>\r\n      </g>\r\n     </g>\r\n    </g>\r\n    <g id=\"ytick_4\">\r\n     <g id=\"line2d_11\">\r\n      <g>\r\n       <use style=\"stroke:#000000;stroke-width:0.8;\" x=\"30.103125\" xlink:href=\"#md1ad6a86ab\" y=\"120.158126\"/>\r\n      </g>\r\n     </g>\r\n     <g id=\"text_12\">\r\n      <!-- 0.7 -->\r\n      <g transform=\"translate(7.2 123.957344)scale(0.1 -0.1)\">\r\n       <defs>\r\n        <path d=\"M 8.203125 72.90625 \r\nL 55.078125 72.90625 \r\nL 55.078125 68.703125 \r\nL 28.609375 0 \r\nL 18.3125 0 \r\nL 43.21875 64.59375 \r\nL 8.203125 64.59375 \r\nz\r\n\" id=\"DejaVuSans-55\"/>\r\n       </defs>\r\n       <use xlink:href=\"#DejaVuSans-48\"/>\r\n       <use x=\"63.623047\" xlink:href=\"#DejaVuSans-46\"/>\r\n       <use x=\"95.410156\" xlink:href=\"#DejaVuSans-55\"/>\r\n      </g>\r\n     </g>\r\n    </g>\r\n    <g id=\"ytick_5\">\r\n     <g id=\"line2d_12\">\r\n      <g>\r\n       <use style=\"stroke:#000000;stroke-width:0.8;\" x=\"30.103125\" xlink:href=\"#md1ad6a86ab\" y=\"85.799963\"/>\r\n      </g>\r\n     </g>\r\n     <g id=\"text_13\">\r\n      <!-- 0.8 -->\r\n      <g transform=\"translate(7.2 89.599181)scale(0.1 -0.1)\">\r\n       <defs>\r\n        <path d=\"M 31.78125 34.625 \r\nQ 24.75 34.625 20.71875 30.859375 \r\nQ 16.703125 27.09375 16.703125 20.515625 \r\nQ 16.703125 13.921875 20.71875 10.15625 \r\nQ 24.75 6.390625 31.78125 6.390625 \r\nQ 38.8125 6.390625 42.859375 10.171875 \r\nQ 46.921875 13.96875 46.921875 20.515625 \r\nQ 46.921875 27.09375 42.890625 30.859375 \r\nQ 38.875 34.625 31.78125 34.625 \r\nz\r\nM 21.921875 38.8125 \r\nQ 15.578125 40.375 12.03125 44.71875 \r\nQ 8.5 49.078125 8.5 55.328125 \r\nQ 8.5 64.0625 14.71875 69.140625 \r\nQ 20.953125 74.21875 31.78125 74.21875 \r\nQ 42.671875 74.21875 48.875 69.140625 \r\nQ 55.078125 64.0625 55.078125 55.328125 \r\nQ 55.078125 49.078125 51.53125 44.71875 \r\nQ 48 40.375 41.703125 38.8125 \r\nQ 48.828125 37.15625 52.796875 32.3125 \r\nQ 56.78125 27.484375 56.78125 20.515625 \r\nQ 56.78125 9.90625 50.3125 4.234375 \r\nQ 43.84375 -1.421875 31.78125 -1.421875 \r\nQ 19.734375 -1.421875 13.25 4.234375 \r\nQ 6.78125 9.90625 6.78125 20.515625 \r\nQ 6.78125 27.484375 10.78125 32.3125 \r\nQ 14.796875 37.15625 21.921875 38.8125 \r\nz\r\nM 18.3125 54.390625 \r\nQ 18.3125 48.734375 21.84375 45.5625 \r\nQ 25.390625 42.390625 31.78125 42.390625 \r\nQ 38.140625 42.390625 41.71875 45.5625 \r\nQ 45.3125 48.734375 45.3125 54.390625 \r\nQ 45.3125 60.0625 41.71875 63.234375 \r\nQ 38.140625 66.40625 31.78125 66.40625 \r\nQ 25.390625 66.40625 21.84375 63.234375 \r\nQ 18.3125 60.0625 18.3125 54.390625 \r\nz\r\n\" id=\"DejaVuSans-56\"/>\r\n       </defs>\r\n       <use xlink:href=\"#DejaVuSans-48\"/>\r\n       <use x=\"63.623047\" xlink:href=\"#DejaVuSans-46\"/>\r\n       <use x=\"95.410156\" xlink:href=\"#DejaVuSans-56\"/>\r\n      </g>\r\n     </g>\r\n    </g>\r\n    <g id=\"ytick_6\">\r\n     <g id=\"line2d_13\">\r\n      <g>\r\n       <use style=\"stroke:#000000;stroke-width:0.8;\" x=\"30.103125\" xlink:href=\"#md1ad6a86ab\" y=\"51.441799\"/>\r\n      </g>\r\n     </g>\r\n     <g id=\"text_14\">\r\n      <!-- 0.9 -->\r\n      <g transform=\"translate(7.2 55.241018)scale(0.1 -0.1)\">\r\n       <defs>\r\n        <path d=\"M 10.984375 1.515625 \r\nL 10.984375 10.5 \r\nQ 14.703125 8.734375 18.5 7.8125 \r\nQ 22.3125 6.890625 25.984375 6.890625 \r\nQ 35.75 6.890625 40.890625 13.453125 \r\nQ 46.046875 20.015625 46.78125 33.40625 \r\nQ 43.953125 29.203125 39.59375 26.953125 \r\nQ 35.25 24.703125 29.984375 24.703125 \r\nQ 19.046875 24.703125 12.671875 31.3125 \r\nQ 6.296875 37.9375 6.296875 49.421875 \r\nQ 6.296875 60.640625 12.9375 67.421875 \r\nQ 19.578125 74.21875 30.609375 74.21875 \r\nQ 43.265625 74.21875 49.921875 64.515625 \r\nQ 56.59375 54.828125 56.59375 36.375 \r\nQ 56.59375 19.140625 48.40625 8.859375 \r\nQ 40.234375 -1.421875 26.421875 -1.421875 \r\nQ 22.703125 -1.421875 18.890625 -0.6875 \r\nQ 15.09375 0.046875 10.984375 1.515625 \r\nz\r\nM 30.609375 32.421875 \r\nQ 37.25 32.421875 41.125 36.953125 \r\nQ 45.015625 41.5 45.015625 49.421875 \r\nQ 45.015625 57.28125 41.125 61.84375 \r\nQ 37.25 66.40625 30.609375 66.40625 \r\nQ 23.96875 66.40625 20.09375 61.84375 \r\nQ 16.21875 57.28125 16.21875 49.421875 \r\nQ 16.21875 41.5 20.09375 36.953125 \r\nQ 23.96875 32.421875 30.609375 32.421875 \r\nz\r\n\" id=\"DejaVuSans-57\"/>\r\n       </defs>\r\n       <use xlink:href=\"#DejaVuSans-48\"/>\r\n       <use x=\"63.623047\" xlink:href=\"#DejaVuSans-46\"/>\r\n       <use x=\"95.410156\" xlink:href=\"#DejaVuSans-57\"/>\r\n      </g>\r\n     </g>\r\n    </g>\r\n    <g id=\"ytick_7\">\r\n     <g id=\"line2d_14\">\r\n      <g>\r\n       <use style=\"stroke:#000000;stroke-width:0.8;\" x=\"30.103125\" xlink:href=\"#md1ad6a86ab\" y=\"17.083636\"/>\r\n      </g>\r\n     </g>\r\n     <g id=\"text_15\">\r\n      <!-- 1.0 -->\r\n      <g transform=\"translate(7.2 20.882855)scale(0.1 -0.1)\">\r\n       <use xlink:href=\"#DejaVuSans-49\"/>\r\n       <use x=\"63.623047\" xlink:href=\"#DejaVuSans-46\"/>\r\n       <use x=\"95.410156\" xlink:href=\"#DejaVuSans-48\"/>\r\n      </g>\r\n     </g>\r\n    </g>\r\n   </g>\r\n   <g id=\"line2d_15\">\r\n    <path clip-path=\"url(#p9259b3c4b9)\" d=\"M 45.321307 17.083636 \r\nL 50.394034 17.083636 \r\nL 50.394034 21.364663 \r\nL 55.466761 21.364663 \r\nL 55.466761 27.941195 \r\nL 60.539489 27.941195 \r\nL 60.539489 35.811189 \r\nL 65.612216 35.811189 \r\nL 65.612216 43.960197 \r\nL 70.684943 43.960197 \r\nL 70.684943 53.034814 \r\nL 75.75767 53.034814 \r\nL 75.75767 62.218962 \r\nL 80.830398 62.218962 \r\nL 80.830398 71.922365 \r\nL 85.903125 71.922365 \r\nL 85.903125 82.781773 \r\nL 90.975852 82.781773 \r\nL 90.975852 93.343871 \r\nL 96.04858 93.343871 \r\nL 96.04858 103.363512 \r\nL 101.121307 103.363512 \r\nL 101.121307 112.901749 \r\nL 106.194034 112.901749 \r\nL 106.194034 121.334634 \r\nL 111.266761 121.334634 \r\nL 111.266761 129.427518 \r\nL 116.339489 129.427518 \r\nL 116.339489 136.740805 \r\nL 121.412216 136.740805 \r\nL 121.412216 143.356231 \r\nL 126.484943 143.356231 \r\nL 126.484943 149.457069 \r\nL 131.55767 149.457069 \r\nL 131.55767 154.845115 \r\nL 136.630398 154.845115 \r\nL 136.630398 160.020097 \r\nL 141.703125 160.020097 \r\nL 141.703125 164.947812 \r\nL 146.775852 164.947812 \r\nL 146.775852 169.626522 \r\nL 151.84858 169.626522 \r\nL 151.84858 174.116187 \r\nL 156.921307 174.116187 \r\nL 156.921307 177.871967 \r\nL 161.994034 177.871967 \r\nL 161.994034 181.422418 \r\nL 167.066761 181.422418 \r\nL 167.066761 184.630177 \r\nL 172.139489 184.630177 \r\nL 172.139489 187.475571 \r\nL 177.212216 187.475571 \r\nL 177.212216 189.820949 \r\nL 182.284943 189.820949 \r\nL 182.284943 191.983787 \r\nL 187.35767 191.983787 \r\nL 187.35767 193.714375 \r\nL 192.430398 193.714375 \r\nL 192.430398 195.441095 \r\nL 197.503125 195.441095 \r\nL 197.503125 197.247294 \r\nL 202.575852 197.247294 \r\nL 202.575852 198.910407 \r\nL 207.64858 198.910407 \r\nL 207.64858 200.226956 \r\nL 212.721307 200.226956 \r\nL 212.721307 201.290604 \r\nL 217.794034 201.290604 \r\nL 217.794034 202.072185 \r\nL 222.866761 202.072185 \r\nL 222.866761 202.861598 \r\nL 227.939489 202.861598 \r\nL 227.939489 203.896524 \r\nL 233.012216 203.896524 \r\nL 233.012216 204.641677 \r\nL 238.084943 204.641677 \r\nL 238.084943 205.589041 \r\nL 243.15767 205.589041 \r\nL 243.15767 206.939096 \r\nL 248.230398 206.939096 \r\nL 248.230398 207.412828 \r\nL 253.303125 207.412828 \r\nL 253.303125 208.020973 \r\nL 258.375852 208.020973 \r\nL 258.375852 208.697387 \r\nL 263.44858 208.697387 \r\nL 263.44858 209.016648 \r\nL 268.521307 209.016648 \r\nL 268.521307 211.288537 \r\nL 273.594034 211.288537 \r\nL 273.594034 211.288537 \r\nL 278.666761 211.288537 \r\nL 278.666761 211.288537 \r\nL 283.739489 211.288537 \r\nL 283.739489 211.288537 \r\nL 288.812216 211.288537 \r\nL 288.812216 211.288537 \r\nL 293.884943 211.288537 \r\nL 293.884943 211.288537 \r\nL 298.95767 211.288537 \r\nL 298.95767 211.288537 \r\nL 304.030398 211.288537 \r\nL 304.030398 211.288537 \r\nL 349.684943 211.288537 \r\nL 349.684943 211.288537 \r\n\" style=\"fill:none;stroke:#1f77b4;stroke-linecap:square;stroke-width:1.5;\"/>\r\n   </g>\r\n   <g id=\"patch_3\">\r\n    <path d=\"M 30.103125 224.64 \r\nL 30.103125 7.2 \r\n\" style=\"fill:none;stroke:#000000;stroke-linecap:square;stroke-linejoin:miter;stroke-width:0.8;\"/>\r\n   </g>\r\n   <g id=\"patch_4\">\r\n    <path d=\"M 364.903125 224.64 \r\nL 364.903125 7.2 \r\n\" style=\"fill:none;stroke:#000000;stroke-linecap:square;stroke-linejoin:miter;stroke-width:0.8;\"/>\r\n   </g>\r\n   <g id=\"patch_5\">\r\n    <path d=\"M 30.103125 224.64 \r\nL 364.903125 224.64 \r\n\" style=\"fill:none;stroke:#000000;stroke-linecap:square;stroke-linejoin:miter;stroke-width:0.8;\"/>\r\n   </g>\r\n   <g id=\"patch_6\">\r\n    <path d=\"M 30.103125 7.2 \r\nL 364.903125 7.2 \r\n\" style=\"fill:none;stroke:#000000;stroke-linecap:square;stroke-linejoin:miter;stroke-width:0.8;\"/>\r\n   </g>\r\n   <g id=\"legend_1\">\r\n    <g id=\"patch_7\">\r\n     <path d=\"M 261.714063 30.15625 \r\nL 357.903125 30.15625 \r\nQ 359.903125 30.15625 359.903125 28.15625 \r\nL 359.903125 14.2 \r\nQ 359.903125 12.2 357.903125 12.2 \r\nL 261.714063 12.2 \r\nQ 259.714063 12.2 259.714063 14.2 \r\nL 259.714063 28.15625 \r\nQ 259.714063 30.15625 261.714063 30.15625 \r\nz\r\n\" style=\"fill:#ffffff;opacity:0.8;stroke:#cccccc;stroke-linejoin:miter;\"/>\r\n    </g>\r\n    <g id=\"line2d_16\">\r\n     <path d=\"M 263.714063 20.298437 \r\nL 283.714063 20.298437 \r\n\" style=\"fill:none;stroke:#1f77b4;stroke-linecap:square;stroke-width:1.5;\"/>\r\n    </g>\r\n    <g id=\"line2d_17\"/>\r\n    <g id=\"text_16\">\r\n     <!-- KM_estimate -->\r\n     <g transform=\"translate(291.714063 23.798437)scale(0.1 -0.1)\">\r\n      <defs>\r\n       <path d=\"M 9.8125 72.90625 \r\nL 19.671875 72.90625 \r\nL 19.671875 42.09375 \r\nL 52.390625 72.90625 \r\nL 65.09375 72.90625 \r\nL 28.90625 38.921875 \r\nL 67.671875 0 \r\nL 54.6875 0 \r\nL 19.671875 35.109375 \r\nL 19.671875 0 \r\nL 9.8125 0 \r\nz\r\n\" id=\"DejaVuSans-75\"/>\r\n       <path d=\"M 9.8125 72.90625 \r\nL 24.515625 72.90625 \r\nL 43.109375 23.296875 \r\nL 61.8125 72.90625 \r\nL 76.515625 72.90625 \r\nL 76.515625 0 \r\nL 66.890625 0 \r\nL 66.890625 64.015625 \r\nL 48.09375 14.015625 \r\nL 38.1875 14.015625 \r\nL 19.390625 64.015625 \r\nL 19.390625 0 \r\nL 9.8125 0 \r\nz\r\n\" id=\"DejaVuSans-77\"/>\r\n       <path d=\"M 50.984375 -16.609375 \r\nL 50.984375 -23.578125 \r\nL -0.984375 -23.578125 \r\nL -0.984375 -16.609375 \r\nz\r\n\" id=\"DejaVuSans-95\"/>\r\n       <path d=\"M 44.28125 53.078125 \r\nL 44.28125 44.578125 \r\nQ 40.484375 46.53125 36.375 47.5 \r\nQ 32.28125 48.484375 27.875 48.484375 \r\nQ 21.1875 48.484375 17.84375 46.4375 \r\nQ 14.5 44.390625 14.5 40.28125 \r\nQ 14.5 37.15625 16.890625 35.375 \r\nQ 19.28125 33.59375 26.515625 31.984375 \r\nL 29.59375 31.296875 \r\nQ 39.15625 29.25 43.1875 25.515625 \r\nQ 47.21875 21.78125 47.21875 15.09375 \r\nQ 47.21875 7.46875 41.1875 3.015625 \r\nQ 35.15625 -1.421875 24.609375 -1.421875 \r\nQ 20.21875 -1.421875 15.453125 -0.5625 \r\nQ 10.6875 0.296875 5.421875 2 \r\nL 5.421875 11.28125 \r\nQ 10.40625 8.6875 15.234375 7.390625 \r\nQ 20.0625 6.109375 24.8125 6.109375 \r\nQ 31.15625 6.109375 34.5625 8.28125 \r\nQ 37.984375 10.453125 37.984375 14.40625 \r\nQ 37.984375 18.0625 35.515625 20.015625 \r\nQ 33.0625 21.96875 24.703125 23.78125 \r\nL 21.578125 24.515625 \r\nQ 13.234375 26.265625 9.515625 29.90625 \r\nQ 5.8125 33.546875 5.8125 39.890625 \r\nQ 5.8125 47.609375 11.28125 51.796875 \r\nQ 16.75 56 26.8125 56 \r\nQ 31.78125 56 36.171875 55.265625 \r\nQ 40.578125 54.546875 44.28125 53.078125 \r\nz\r\n\" id=\"DejaVuSans-115\"/>\r\n       <path d=\"M 34.28125 27.484375 \r\nQ 23.390625 27.484375 19.1875 25 \r\nQ 14.984375 22.515625 14.984375 16.5 \r\nQ 14.984375 11.71875 18.140625 8.90625 \r\nQ 21.296875 6.109375 26.703125 6.109375 \r\nQ 34.1875 6.109375 38.703125 11.40625 \r\nQ 43.21875 16.703125 43.21875 25.484375 \r\nL 43.21875 27.484375 \r\nz\r\nM 52.203125 31.203125 \r\nL 52.203125 0 \r\nL 43.21875 0 \r\nL 43.21875 8.296875 \r\nQ 40.140625 3.328125 35.546875 0.953125 \r\nQ 30.953125 -1.421875 24.3125 -1.421875 \r\nQ 15.921875 -1.421875 10.953125 3.296875 \r\nQ 6 8.015625 6 15.921875 \r\nQ 6 25.140625 12.171875 29.828125 \r\nQ 18.359375 34.515625 30.609375 34.515625 \r\nL 43.21875 34.515625 \r\nL 43.21875 35.40625 \r\nQ 43.21875 41.609375 39.140625 45 \r\nQ 35.0625 48.390625 27.6875 48.390625 \r\nQ 23 48.390625 18.546875 47.265625 \r\nQ 14.109375 46.140625 10.015625 43.890625 \r\nL 10.015625 52.203125 \r\nQ 14.9375 54.109375 19.578125 55.046875 \r\nQ 24.21875 56 28.609375 56 \r\nQ 40.484375 56 46.34375 49.84375 \r\nQ 52.203125 43.703125 52.203125 31.203125 \r\nz\r\n\" id=\"DejaVuSans-97\"/>\r\n      </defs>\r\n      <use xlink:href=\"#DejaVuSans-75\"/>\r\n      <use x=\"65.576172\" xlink:href=\"#DejaVuSans-77\"/>\r\n      <use x=\"151.855469\" xlink:href=\"#DejaVuSans-95\"/>\r\n      <use x=\"201.855469\" xlink:href=\"#DejaVuSans-101\"/>\r\n      <use x=\"263.378906\" xlink:href=\"#DejaVuSans-115\"/>\r\n      <use x=\"315.478516\" xlink:href=\"#DejaVuSans-116\"/>\r\n      <use x=\"354.6875\" xlink:href=\"#DejaVuSans-105\"/>\r\n      <use x=\"382.470703\" xlink:href=\"#DejaVuSans-109\"/>\r\n      <use x=\"479.882812\" xlink:href=\"#DejaVuSans-97\"/>\r\n      <use x=\"541.162109\" xlink:href=\"#DejaVuSans-116\"/>\r\n      <use x=\"580.371094\" xlink:href=\"#DejaVuSans-101\"/>\r\n     </g>\r\n    </g>\r\n   </g>\r\n  </g>\r\n </g>\r\n <defs>\r\n  <clipPath id=\"p9259b3c4b9\">\r\n   <rect height=\"217.44\" width=\"334.8\" x=\"30.103125\" y=\"7.2\"/>\r\n  </clipPath>\r\n </defs>\r\n</svg>\r\n",
      "image/png": "[encoded data removed]"
     },
     "metadata": {
      "needs_background": "light"
     }
    }
   ],
   "source": [
    "# kaplan cureve\n",
    "from lifelines import KaplanMeierFitter\n",
    "kmf = KaplanMeierFitter()\n",
    "\n",
    "T = data_cox[\"duration\"]\n",
    "E = data_cox[\"label\"]\n",
    "\n",
    "kmf.fit(T, event_observed=E)\n",
    "kmf.plot()"
   ]
  },
  {
   "cell_type": "code",
   "execution_count": 7,
   "metadata": {},
   "outputs": [],
   "source": [
    "from data_preprocess import *\n",
    "feature_list = varying_co"
   ]
  },
  {
   "cell_type": "code",
   "execution_count": 8,
   "metadata": {},
   "outputs": [],
   "source": [
    "data_process = preprocess_data(data_original =loan_m[loan_m.id < 101], feature_list = feature_list,)"
   ]
  },
  {
   "cell_type": "code",
   "execution_count": 9,
   "metadata": {},
   "outputs": [],
   "source": [
    "DATA, MASK, data_mi, pat_info = data_process.preprocess()"
   ]
  },
  {
   "cell_type": "code",
   "execution_count": 10,
   "metadata": {},
   "outputs": [],
   "source": [
    "n_timesteps =  DATA[0].shape[1]"
   ]
  },
  {
   "cell_type": "code",
   "execution_count": 26,
   "metadata": {},
   "outputs": [
    {
     "output_type": "execute_result",
     "data": {
      "text/plain": [
       "(100, 35, 7)"
      ]
     },
     "metadata": {},
     "execution_count": 26
    }
   ],
   "source": [
    "def get_batch_list():\n",
    "\n",
    "def ranking_loss():\n",
    "\n",
    "def evaluate_fun():\n",
    "    "
   ]
  },
  {
   "cell_type": "markdown",
   "metadata": {},
   "source": [
    "# RNN "
   ]
  },
  {
   "cell_type": "code",
   "execution_count": 11,
   "metadata": {},
   "outputs": [],
   "source": [
    "# first neural network with keras tutorial\n",
    "import tensorflow as tf\n",
    "from tensorflow import keras as keras\n",
    "from numpy import loadtxt\n",
    "from tensorflow.keras.models import Sequential\n",
    "from tensorflow.keras.layers import Dense, Input\n",
    "from tensorflow.keras import Model\n",
    "from datetime import datetime\n"
   ]
  },
  {
   "cell_type": "code",
   "execution_count": 45,
   "metadata": {},
   "outputs": [],
   "source": [
    "from utils_layer import *\n",
    "l_RNN = RNN_layer(n_timesteps, n_features = 7,  rnn_units = 24,\n",
    "n_layer_rnn = 2, type_layer = None, activation_fn_rnn = None, mask_value = 0)\n",
    "rnn_out  = head_RNN(n_timesteps)"
   ]
  },
  {
   "cell_type": "code",
   "execution_count": 46,
   "metadata": {},
   "outputs": [],
   "source": [
    "main = Sequential(l_RNN)\n",
    "head = Sequential(rnn_out)\n",
    "# build path to get sequence output and pi\n",
    "path_1 = main \n",
    "path_2 = Sequential([main, head])"
   ]
  },
  {
   "cell_type": "code",
   "execution_count": 47,
   "metadata": {},
   "outputs": [],
   "source": [
    "#compute loss\n",
    "#log_likelihood\n",
    "def Prob_Surv(batch_index):\n",
    "    mask_1 = np.zeros(DATA[0].shape[:2])   # comput multiply until last time point\n",
    "    for i in range(len(pat_info[:,3])):\n",
    "        mask_1[i, :int(pat_info[i,3])]      = 1\n",
    "\n",
    "    mask_2 = np.zeros(DATA[0].shape[:2])   # mask at the last time point\n",
    "    for i in range(len(pat_info[:,3])):\n",
    "        mask_2[i, int(pat_info[i,3]-1)]     = 1\n",
    "\n",
    "    mask_3 = np.zeros(DATA[0].shape[:2])   # mask at the last time point\n",
    "    for i in range(len(pat_info[:,3])):\n",
    "        mask_3[i, :(int(pat_info[i,3]-1))]  = 1\n",
    "\n",
    "    mask_1 = tf.constant(mask_1, shape = OUT_h_i.shape, dtype = 'float32')\n",
    "    mask_2 = tf.constant(mask_2, shape = OUT_h_i.shape, dtype = 'float32')\n",
    "    mask_3 = tf.constant(mask_3, shape = OUT_h_i.shape, dtype = 'float32')\n",
    "\n",
    "    h_i = tf.reshape(tf.math.multiply(OUT_h_i, mask_1), mask_1.shape, name='h_i')\n",
    "    S_t = tf.math.reduce_prod(1- h_i, axis=1, keepdims=False, name='S_i')\n",
    "    \n",
    "    h_last = tf.reduce_sum(tf.reshape(tf.math.multiply(OUT_h_i, mask_2), mask_2.shape), axis = 1) \n",
    "    # shape (batch_size, 1) unwanted points == 0\n",
    "    mul_h = tf.math.reduce_prod(1- tf.math.multiply(OUT_h_i, mask_3, mask_3.shape,), axis=1)  # (50, 1)\n",
    "    p_il = tf.math.multiply(h_last, mul_h)\n",
    "\n",
    "    return p_il, S_t\n",
    "\n",
    "def loss_likelihood(p_i, Prob, S_t, OUT_batch_status, ):   # censoring case == 0\n",
    "    # censored data\n",
    "    l_censored = 1 - OUT_p_i + tf.math.multiply(p_i, S_t)\n",
    "    l_censored = l_censored[OUT_batch_status == 0]\n",
    "    l_censored = tf.reduce_sum(\n",
    "        tf.math.log(l_censored)\n",
    "        ) \n",
    "    print(l_censored)\n",
    "    # uncensored data\n",
    "    l_uncensored = tf.math.multiply(p_i, Prob)\n",
    "    l_uncensored = l_uncensored[OUT_batch_status == 1]\n",
    "    l_uncensored = tf.reduce_sum(\n",
    "        tf.math.log(l_uncensored)\n",
    "        )\n",
    "    print(l_uncensored)\n",
    "    return -(l_uncensored + l_censored)"
   ]
  },
  {
   "cell_type": "code",
   "execution_count": 48,
   "metadata": {},
   "outputs": [],
   "source": [
    "optimizer = tf.keras.optimizers.SGD(learning_rate=0.01)"
   ]
  },
  {
   "cell_type": "code",
   "execution_count": 49,
   "metadata": {},
   "outputs": [
    {
     "output_type": "stream",
     "name": "stdout",
     "text": [
      "tf.Tensor(\n[[0.4265672 ]\n [0.50432324]\n [0.49959555]\n [0.39711437]\n [0.5047917 ]\n [0.47617114]\n [0.50361663]\n [0.50054216]\n [0.5011685 ]\n [0.5082671 ]\n [0.50716287]\n [0.51296365]\n [0.5102476 ]\n [0.50550294]\n [0.5084427 ]\n [0.49744508]\n [0.5093899 ]\n [0.4907397 ]\n [0.5100236 ]\n [0.5096804 ]\n [0.51091534]\n [0.5076158 ]\n [0.50050026]\n [0.505002  ]\n [0.5075355 ]\n [0.43905923]\n [0.51241136]\n [0.48191273]\n [0.50576264]\n [0.5097748 ]\n [0.47187594]\n [0.50066113]\n [0.50889224]\n [0.505172  ]\n [0.5079138 ]\n [0.5079774 ]\n [0.51227087]\n [0.5101282 ]\n [0.5025286 ]\n [0.50756484]\n [0.5004978 ]\n [0.51021695]\n [0.51048046]\n [0.50591254]\n [0.5102132 ]\n [0.5089835 ]\n [0.50884044]\n [0.5052362 ]\n [0.50714004]\n [0.50851583]\n [0.5085342 ]\n [0.5113827 ]\n [0.5082327 ]\n [0.51033473]\n [0.5118143 ]\n [0.41740477]\n [0.42617917]\n [0.40120512]\n [0.5016395 ]\n [0.50374985]\n [0.45558387]\n [0.49583417]\n [0.5033723 ]\n [0.4996553 ]\n [0.48292854]\n [0.43327603]\n [0.49987972]\n [0.49683684]\n [0.4361833 ]\n [0.5020712 ]\n [0.5020638 ]\n [0.4995532 ]\n [0.48486093]\n [0.4685248 ]\n [0.50107133]\n [0.49932453]\n [0.49690294]\n [0.49660066]\n [0.5003325 ]\n [0.433437  ]\n [0.506741  ]\n [0.43316668]\n [0.49644408]\n [0.4642539 ]\n [0.5137101 ]\n [0.49989456]\n [0.5006212 ]\n [0.41117102]\n [0.50857395]\n [0.44052395]\n [0.50070465]\n [0.5007181 ]\n [0.5050118 ]\n [0.49916637]\n [0.50903594]\n [0.50922376]\n [0.5005382 ]\n [0.49818555]\n [0.51209146]\n [0.47505328]], shape=(100, 1), dtype=float32)\ntf.Tensor(-38.147324, shape=(), dtype=float32)\ntf.Tensor(-217.06952, shape=(), dtype=float32)\n"
     ]
    },
    {
     "output_type": "execute_result",
     "data": {
      "text/plain": [
       "<tf.Variable 'UnreadVariable' shape=() dtype=int64, numpy=1>"
      ]
     },
     "metadata": {},
     "execution_count": 49
    }
   ],
   "source": [
    "with tf.GradientTape() as tape:\n",
    "\t\t# make a prediction using the model and then calculate the\n",
    "\t\t# loss\n",
    "        OUT_h_i = tf.math.sigmoid(path_1(inputs = DATA[0]))  #output shape (batch_size, timestep, 1)\n",
    "        OUT_p_i = path_2(inputs = DATA[0])  #output shape (batch_size, 1)\n",
    "        p_il, S_t = Prob_Surv()\n",
    "        loss = loss_likelihood(OUT_p_i, p_il, S_t, DATA[2], )\n",
    "gradients = tape.gradient(loss, path_2.trainable_variables)\n",
    "optimizer.apply_gradients(zip(gradients, path_2.trainable_variables))"
   ]
  },
  {
   "cell_type": "code",
   "execution_count": 50,
   "metadata": {},
   "outputs": [
    {
     "output_type": "stream",
     "name": "stdout",
     "text": [
      "Model: \"sequential_5\"\n_________________________________________________________________\nLayer (type)                 Output Shape              Param #   \n=================================================================\nsequential_3 (Sequential)    (None, 35, 1)             3176      \n_________________________________________________________________\nsequential_4 (Sequential)    (None, 1)                 36        \n=================================================================\nTotal params: 3,212\nTrainable params: 3,212\nNon-trainable params: 0\n_________________________________________________________________\n"
     ]
    }
   ],
   "source": [
    "path_2.summary()"
   ]
  },
  {
   "cell_type": "code",
   "execution_count": 52,
   "metadata": {},
   "outputs": [
    {
     "output_type": "execute_result",
     "data": {
      "text/plain": [
       "<tf.Tensor: shape=(2, 1), dtype=float32, numpy=\n",
       "array([[0.4606987 ],\n",
       "       [0.49411416]], dtype=float32)>"
      ]
     },
     "metadata": {},
     "execution_count": 52
    }
   ],
   "source": [
    "path_2(inputs = DATA[0][:2, :,:])"
   ]
  },
  {
   "cell_type": "code",
   "execution_count": 51,
   "metadata": {},
   "outputs": [
    {
     "output_type": "execute_result",
     "data": {
      "text/plain": [
       "array([[0.46069872],\n",
       "       [0.49411416]], dtype=float32)"
      ]
     },
     "metadata": {},
     "execution_count": 51
    }
   ],
   "source": [
    "path_2.predict(DATA[0][:2, :,:])"
   ]
  },
  {
   "cell_type": "code",
   "execution_count": null,
   "metadata": {},
   "outputs": [],
   "source": []
  },
  {
   "cell_type": "code",
   "execution_count": null,
   "metadata": {},
   "outputs": [],
   "source": []
  },
  {
   "cell_type": "code",
   "execution_count": null,
   "metadata": {},
   "outputs": [],
   "source": []
  },
  {
   "cell_type": "code",
   "execution_count": null,
   "metadata": {},
   "outputs": [],
   "source": [
    "### CONSTRUCT MULTICELL FOR MULTI-LAYER RNNS\n",
    "def create_rnn_cell(num_units, n_cell, drop_prob, RNN_type, activation_fn,\n",
    "                    return_sequences=True, return_state=True): \n",
    "    '''\n",
    "        GOAL         : create multi-cell (including a single cell) to construct multi-layer RNN\n",
    "        num_units    : number of units in each layer, dimension of output space\n",
    "        num_layers   : number of layers in MulticellRNN\n",
    "        drop_prob    : keep probabilty [0, 1) 1 if no dropout\n",
    "        RNN_type     : either 'LSTM' or 'GRU'\n",
    "    '''\n",
    "    if activation_fn == 'None':\n",
    "        activation_fn = tf.nn.tanh\n",
    "\n",
    "    cells = []\n",
    "    for _ in range(n_cell):\n",
    "        if RNN_type == 'GRU':\n",
    "            cell = tf.keras.layers.GRUCell(num_units, activation=activation_fn, recurrent_dropout=drop_prob)\n",
    "        elif RNN_type == 'LSTM':\n",
    "            cell = tf.keras.layers.LSTMCell(num_units, activation=activation_fn, recurrent_dropout=drop_prob)\n",
    "            cells.append(cell)\n",
    "    lstm_layer = tf.keras.layers.RNN(cells, \n",
    "                                     return_sequences, \n",
    "                                     return_state) \n",
    "    return lstm_layer"
   ]
  },
  {
   "cell_type": "code",
   "execution_count": null,
   "metadata": {},
   "outputs": [],
   "source": [
    "inputs = tf.random.normal([500, 24, 10])\n",
    "outputs = tf.random.normal([500, ])\n",
    "# [batch, timesteps, feature] # timesteps refers to Y_max, feature = n_featuresto use\n",
    "'''\n",
    "e.g.\n",
    "data_x = numpy.array([\n",
    "    # Datapoint 1\n",
    "    [\n",
    "        # Input features at timestep 1\n",
    "        [1, 2, 3],\n",
    "        # Input features at timestep 2\n",
    "        [4, 5, 6]\n",
    "    ],\n",
    "    # Datapoint 2\n",
    "    [\n",
    "        # Features at timestep 1\n",
    "        [7, 8, 9],\n",
    "        # Features at timestep 2\n",
    "        [10, 11, 12]\n",
    "    ]\n",
    "])\n",
    "(batch, 2, 3)\n",
    "'''\n",
    "\n",
    "from tensorflow.python.framework import ops\n",
    "ops.reset_default_graph()\n",
    "\n",
    "Input_1= Input(shape=(24, 10, ), )\n",
    "Rnn = create_rnn_cell(1, 24, drop_prob = 0.3, RNN_type = 'LSTM',  #n_units, n_cells\n",
    "                      activation_fn = None, \n",
    "                      return_sequences=True, \n",
    "                      return_state=True)\n",
    "state = Rnn(Input_1)\n",
    "out_pi = Dense(1, activation=tf.nn.sigmoid, name=\"decoder\")(state[1][0])\n",
    "\n",
    "\n",
    "#output = state[0] # batches*timestamps*number_inputs\n",
    "\n",
    "#"
   ]
  },
  {
   "cell_type": "code",
   "execution_count": null,
   "metadata": {},
   "outputs": [],
   "source": [
    "model_1 = Model(inputs=Input_1, outputs=out_pi,)\n",
    "model_1.compile(\n",
    "    optimizer='sgd',\n",
    "    loss='mse',\n",
    "    metrics=['mse'])\n",
    "\n",
    "model_1.summary()"
   ]
  },
  {
   "cell_type": "code",
   "execution_count": null,
   "metadata": {},
   "outputs": [],
   "source": [
    "# Define the Keras TensorBoard callback.\n",
    "logdir=\"logs/fit/\" + datetime.now().strftime(\"%Y%m%d-%H%M%S\")\n",
    "tensorboard_callback = keras.callbacks.TensorBoard(log_dir=logdir)\n",
    "\n",
    "# Train the model.\n",
    "model_1.fit(\n",
    "    inputs,\n",
    "    outputs, \n",
    "    batch_size=30,\n",
    "    epochs=30, \n",
    "    callbacks=[tensorboard_callback], \n",
    "    steps_per_epoch = 20)"
   ]
  },
  {
   "cell_type": "code",
   "execution_count": null,
   "metadata": {},
   "outputs": [],
   "source": []
  },
  {
   "cell_type": "code",
   "execution_count": null,
   "metadata": {},
   "outputs": [],
   "source": [
    "model_1.summary()"
   ]
  },
  {
   "cell_type": "code",
   "execution_count": null,
   "metadata": {},
   "outputs": [],
   "source": [
    "encoder_input = tf.keras.layers.Input(shape=(None,))"
   ]
  },
  {
   "cell_type": "markdown",
   "metadata": {},
   "source": [
    "# NN"
   ]
  },
  {
   "cell_type": "code",
   "execution_count": null,
   "metadata": {},
   "outputs": [],
   "source": [
    "import tensorboard\n",
    "tensorboard.__version__"
   ]
  },
  {
   "cell_type": "code",
   "execution_count": null,
   "metadata": {},
   "outputs": [],
   "source": [
    "# NN try_out\n",
    "# build NN\n",
    "from tensorflow.keras.layers import Dense as Dense\n",
    "import tensorflow as tf\n",
    "\n",
    "\n",
    "### FEEDFORWARD NETWORK\n",
    "def create_FCNet(inputs, num_layers, h_dim, o_dim, o_fn, w_init = None, h_fn=None, w_reg=None, drop_prob=0.0):\n",
    "    '''\n",
    "        GOAL             : Create FC network with different specifications \n",
    "        inputs (tensor)  : input tensor\n",
    "        num_layers       : number of layers in FCNet\n",
    "        h_dim  (int)     : number of hidden units\n",
    "        h_fn             : activation function for hidden layers (default: tf.nn.relu)\n",
    "        o_dim  (int)     : number of output units\n",
    "        o_fn             : activation function for output layers (defalut: None)\n",
    "        w_init           : initialization for weight matrix (defalut: Xavier)\n",
    "        drop_prob        : keep probabilty [0, 1)  (if 0, dropout is not employed)\n",
    "    '''\n",
    "    # default active functions (hidden: relu, out: None)\n",
    "    if h_fn is None:\n",
    "        h_fn = tf.nn.relu\n",
    "    if o_fn is None:\n",
    "        o_fn = None\n",
    "\n",
    "    # default initialization functions (weight: Xavier, bias: None)\n",
    "    if w_init is None:\n",
    "        w_init = tf.initializers.glorot_uniform() # Xavier initialization\n",
    "\n",
    "    for layer in range(num_layers):\n",
    "        if num_layers == 1:\n",
    "            out = Dense(o_dim, activation=o_fn, kernel_initializer=w_init, kernel_regularizer=w_reg)(inputs)\n",
    "        else:\n",
    "            if layer == 0:\n",
    "                h = Dense(h_dim, activation=h_fn, kernel_initializer=w_init, kernel_regularizer=w_reg)(inputs)\n",
    "                if not (drop_prob==0):\n",
    "                    h = tf.nn.dropout(h, rate=drop_prob)\n",
    "                    #tf.nn.dropout(x, rate, noise_shape=None, seed=None, name=None)\n",
    "\n",
    "            elif layer > 0 and layer != (num_layers-1): # layer > 0:\n",
    "                h = Dense(h_dim, activation=h_fn, kernel_initializer=w_init, kernel_regularizer=w_reg)(h)\n",
    "                if not (drop_prob==0):\n",
    "                    h = tf.nn.dropout(h, rate=drop_prob)\n",
    "\n",
    "            else: \n",
    "                out    = Dense(o_dim, activation=o_fn, kernel_initializer=w_init, kernel_regularizer=w_reg)(h)\n",
    "\n",
    "    return out\n",
    "\n",
    "#### Cell for Building RNN\n"
   ]
  },
  {
   "cell_type": "code",
   "execution_count": null,
   "metadata": {
    "scrolled": true
   },
   "outputs": [],
   "source": [
    "Input_1= Input(shape=(28*28, ), )\n",
    "out1 = create_FCNet(Input_1, 2, 5, 10, tf.nn.sigmoid, w_init = None, h_fn=None, w_reg=None, drop_prob=.3)"
   ]
  },
  {
   "cell_type": "code",
   "execution_count": null,
   "metadata": {},
   "outputs": [],
   "source": [
    "out2 = create_FCNet(out1, 2, 5, 10, tf.nn.sigmoid, w_init = None, h_fn=None, w_reg=None, drop_prob=.3)"
   ]
  },
  {
   "cell_type": "code",
   "execution_count": null,
   "metadata": {},
   "outputs": [],
   "source": [
    "model_1 = Model(inputs=Input_1, outputs=[out2],)\n"
   ]
  },
  {
   "cell_type": "code",
   "execution_count": null,
   "metadata": {
    "scrolled": true
   },
   "outputs": [],
   "source": [
    "model_1.summary()"
   ]
  },
  {
   "cell_type": "code",
   "execution_count": null,
   "metadata": {},
   "outputs": [],
   "source": [
    "model_1.compile(\n",
    "    optimizer='adam',\n",
    "    loss='sparse_categorical_crossentropy',\n",
    "    metrics=['accuracy'])\n",
    "\n",
    "# Define the Keras TensorBoard callback.\n",
    "logdir=\"logs/fit/\" + datetime.now().strftime(\"%Y%m%d-%H%M%S\")\n",
    "tensorboard_callback = keras.callbacks.TensorBoard(log_dir=logdir)\n",
    "\n",
    "# Train the model.\n",
    "model_1.fit(\n",
    "    tf.reshape(train_images, [len(train_images), 28*28]),\n",
    "    train_labels, \n",
    "    batch_size=64,\n",
    "    epochs=2, \n",
    "    callbacks=[tensorboard_callback], \n",
    "    steps_per_epoch = 1000)"
   ]
  },
  {
   "cell_type": "code",
   "execution_count": null,
   "metadata": {},
   "outputs": [],
   "source": [
    "# fully connected layer\n",
    "Input_1= Input(shape=(28*28, ), )\n",
    "print(Input_1)\n",
    "\n",
    "# shared output: \n",
    "x = Dense(5, activation='relu', name = 'input')(Input_1)\n",
    "print(x)\n",
    "#x = Dense(32, activation='relu')(x)\n",
    "#x = Dense(32, activation='relu')(x)\n",
    "\n",
    "# causpecific outputs for time\n",
    "out_cs = Dense(5, activation='relu', name = 'cs')(x)\n",
    "print(out_cs)\n",
    "#out_cs = Dense(32, activation='relu')(out_cs)\n",
    "#out_cs = Dense(32, activation='relu')(out_cs)\n",
    "\n",
    "# cause specific output for pi\n",
    "out_cs_pi = Dense(5, activation='relu', name = 'pi')(x)\n",
    "#out_cs_pi = Dense(32, activation='relu')(out_cs_pi)\n",
    "#out_cs_pi = Dense(32, activation='relu')(out_cs_pi)\n",
    "\n",
    "out1 = Dense(10, activation='softmax', name = 'out1')(out_cs)\n",
    "print(out1)\n",
    "out2 = Dense(1,  activation='sigmoid', name = 'out2')(out_cs_pi)\n",
    "print(out2)\n",
    "#define loss weight\n",
    "\n",
    "lossWeights={'out1':0.5,\n",
    "             'out2':0.5 \n",
    "             }\n",
    "\n",
    "#create placeholder for targets (keras throw error if not supplied, be careful)\n",
    "target1 = tf.placeholder(dtype='int32', shape=(None,10 )) # shapes of output1 your target has\n",
    "target2 = tf.placeholder(dtype='float32', shape=(None, 1 ))  # shapes of output2 your target has\n",
    "\n",
    "def loss_fun1(y_true, y_pred):\n",
    "     # do whatever you want\n",
    "    loss  = tf.keras.losses.categorical_crossentropy(y_true, y_pred)\n",
    "    return loss\n",
    "\n",
    "def loss_fun2(y_true, y_pred):\n",
    "     # do whatever you want\n",
    "    loss  = tf.losses.sigmoid_cross_entropy(y_true, y_pred)\n",
    "    return y_pred\n",
    "\n",
    "import tensorflow.keras.backend as K\n",
    "\n",
    "def loss_print(y_true, y_pred):\n",
    "    y_true = K.print_tensor(y_true, message='y_true = ')\n",
    "    y_pred = K.print_tensor(y_pred, message='y_pred = ')\n",
    "    return y_pred\n",
    "    \n",
    "#define loss dict\n",
    "losses ={'out1': loss_fun1, \n",
    "          'out2':loss_fun2  \n",
    "        }\n",
    "\n",
    "#model = Model(inputs=Input_1, outputs=[out1, out2],)  #outputs=[out1]),\n",
    "model.compile(optimizer='adam', \n",
    "              loss=losses,\n",
    "              loss_weights = lossWeights,\n",
    "              metrics=[tf.keras.metrics.CategoricalCrossentropy(), \"mse\"],\n",
    "              target_tensors=[target1, target2])"
   ]
  },
  {
   "cell_type": "code",
   "execution_count": null,
   "metadata": {},
   "outputs": [],
   "source": [
    "model.compile(optimizer='adam', \n",
    "              loss=losses,\n",
    "              loss_weights = lossWeights,\n",
    "              metrics=[tf.keras.metrics.CategoricalCrossentropy(), \"mse\"],\n",
    "              target_tensors=[target1, target2])"
   ]
  },
  {
   "cell_type": "code",
   "execution_count": null,
   "metadata": {},
   "outputs": [],
   "source": [
    "model.summary()"
   ]
  },
  {
   "cell_type": "code",
   "execution_count": null,
   "metadata": {},
   "outputs": [],
   "source": [
    "(train_images, train_labels), _ = tf.keras.datasets.fashion_mnist.load_data()\n",
    "train_images = train_images / 255.0"
   ]
  },
  {
   "cell_type": "code",
   "execution_count": null,
   "metadata": {
    "scrolled": true
   },
   "outputs": [],
   "source": [
    "train_labels.shape"
   ]
  },
  {
   "cell_type": "code",
   "execution_count": null,
   "metadata": {},
   "outputs": [],
   "source": [
    "import random\n",
    "import numpy as np\n",
    "y1 = np.array([random.uniform(0, 1) for i in range(60000)])"
   ]
  },
  {
   "cell_type": "code",
   "execution_count": null,
   "metadata": {},
   "outputs": [],
   "source": [
    "train_labels[:100].shape"
   ]
  },
  {
   "cell_type": "code",
   "execution_count": null,
   "metadata": {
    "scrolled": true
   },
   "outputs": [],
   "source": [
    "# Define the Keras TensorBoard callback.\n",
    "from datetime import datetime\n",
    "logdir=\"logs/fit/\" + datetime.now().strftime(\"%Y%m%d-%H%M%S\")\n",
    "tensorboard_callback = tf.keras.callbacks.TensorBoard(log_dir=logdir)\n",
    "\n",
    "# Train the model.\n",
    "model.fit(\n",
    "    tf.reshape(train_images, [len(train_images), 28*28]),\n",
    "    y = [train_labels, y1], \n",
    "    batch_size=64,\n",
    "    epochs=2, \n",
    "    steps_per_epoch=5,\n",
    "    callbacks=[tensorboard_callback])"
   ]
  },
  {
   "cell_type": "code",
   "execution_count": null,
   "metadata": {},
   "outputs": [],
   "source": [
    "layer = tf.get_default_graph().get_tensor_by_name('dense_59/Softmax:0')\n",
    "# image can visualize 1, 3 and 4 channel images\n",
    "tf.summary.image('layer output', layer)#, max_output=3)"
   ]
  },
  {
   "cell_type": "code",
   "execution_count": null,
   "metadata": {},
   "outputs": [],
   "source": [
    "tensorboard_callback# = keras.callbacks.TensorBoard(log_dir=logdir)"
   ]
  },
  {
   "cell_type": "code",
   "execution_count": null,
   "metadata": {},
   "outputs": [],
   "source": [
    "# Define the model.\n",
    "\n",
    "model = keras.models.Sequential([\n",
    "    keras.layers.Flatten(input_shape=(28, 28)),\n",
    "    keras.layers.Dense(32, activation='relu'),\n",
    "    keras.layers.Dropout(0.2),\n",
    "    keras.layers.Dense(10, activation='softmax')\n",
    "])\n",
    "\n",
    "model.compile(\n",
    "    optimizer='adam',\n",
    "    loss='sparse_categorical_crossentropy',\n",
    "    metrics=['accuracy'])\n",
    "\n",
    "# Define the Keras TensorBoard callback.\n",
    "logdir=\"logs/fit/\" + datetime.now().strftime(\"%Y%m%d-%H%M%S\")\n",
    "tensorboard_callback = keras.callbacks.TensorBoard(log_dir=logdir)\n",
    "\n",
    "# Train the model.\n",
    "model.fit(\n",
    "    train_images,\n",
    "    train_labels, \n",
    "    batch_size=64,\n",
    "    epochs=5, \n",
    "    callbacks=[tensorboard_callback])"
   ]
  },
  {
   "cell_type": "code",
   "execution_count": null,
   "metadata": {},
   "outputs": [],
   "source": [
    "model.summary()"
   ]
  },
  {
   "cell_type": "code",
   "execution_count": null,
   "metadata": {
    "scrolled": true
   },
   "outputs": [],
   "source": [
    "%load_ext tensorboard\n",
    "%tensorboard --logdir logs"
   ]
  },
  {
   "cell_type": "code",
   "execution_count": null,
   "metadata": {},
   "outputs": [],
   "source": []
  }
 ],
 "metadata": {
  "kernelspec": {
   "display_name": "Python 3",
   "language": "python",
   "name": "python3"
  },
  "language_info": {
   "codemirror_mode": {
    "name": "ipython",
    "version": 3
   },
   "file_extension": ".py",
   "mimetype": "text/x-python",
   "name": "python",
   "nbconvert_exporter": "python",
   "pygments_lexer": "ipython3",
   "version": "3.7.9-final"
  }
 },
 "nbformat": 4,
 "nbformat_minor": 4
}