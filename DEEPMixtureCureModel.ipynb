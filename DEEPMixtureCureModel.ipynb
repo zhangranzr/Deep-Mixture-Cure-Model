{
 "cells": [
  {
   "cell_type": "markdown",
   "metadata": {},
   "source": [
    "# Deep Mixture Cure Model\n",
    "# Contents\n",
    "<a href='#LoadingLibraries'>1. Load all neccessary libraries</a><br/>\n",
    "<a href='#EDA'>2. Explanatory Data Analysis</a><br/>\n",
    "<a href='#ChooseFeatures'>3. Choose Features from Earlier Section or External Files</a><br/>\n",
    "<a href='#ImputeWinsorizeStandardize'>4. Imputation, Winsorization, Standardization</a><br/>\n",
    "<a href='#TrainTestModels'>5. Train & Test the Models</a><br/>\n",
    "<a href='#FeatureAnalysis'>6. Analyze Model Features Importance and their Correlation</a><br/>\n",
    "<a href='#ScoreMapping'>7. Build Score Mapping Functions</a><br/>\n",
    "<a href='#CreateModelPickle'>8. Create Deployable Pickle File</a><br/>\n",
    "<a href='#ModelComparison'>9. Compare Model Scores against each other</a><br/>\n",
    "<a href='#AnalyzeFilter'>10. Analyze the impact of various filters on training data</a><br/>\n",
    "<a href='#FeatureSelectionGAXGBoost'>11. Feature Selection via Genetic Algorithm - xgboost</a><br/>\n",
    "<a href='#FeatureSelectionGAXLogReg'>12. Feature Selection via Genetic Algorithm - logreg </a><br/>"
   ]
  },
  {
   "cell_type": "markdown",
   "metadata": {},
   "source": [
    "# Load all neccessary libraries and data<a id='LoadingLibraries'></a>"
   ]
  },
  {
   "cell_type": "markdown",
   "metadata": {},
   "source": [
    "# Explanatory Analysis of Data<a id='EDA'></a>"
   ]
  },
  {
   "cell_type": "code",
   "execution_count": null,
   "metadata": {},
   "outputs": [],
   "source": []
  }
 ],
 "metadata": {
  "kernelspec": {
   "display_name": "Python 3",
   "language": "python",
   "name": "python3"
  },
  "language_info": {
   "codemirror_mode": {
    "name": "ipython",
    "version": 3
   },
   "file_extension": ".py",
   "mimetype": "text/x-python",
   "name": "python",
   "nbconvert_exporter": "python",
   "pygments_lexer": "ipython3",
   "version": "3.7.6"
  }
 },
 "nbformat": 4,
 "nbformat_minor": 4
}
